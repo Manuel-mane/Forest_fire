{
 "cells": [
  {
   "cell_type": "markdown",
   "metadata": {},
   "source": [
    "# Prediction of forest fire in Portugal\n",
    "\n",
    "Through a regression model, we will predict the damaged areas by forest fire on a  region of Portugal. The prediction consist on whether a forest fire can be affected by a fire, and if it is, how many hectareas can be the fire affect.\n",
    "\n",
    "\n",
    "## 1. Data\n",
    "\n",
    "The data is downloaded from UCI Machine Learning Repository: https://archive.ics.uci.edu/ml/datasets/Forest+Fires\n",
    "Data Set Information:\n",
    "\n",
    "#### Prior results\n",
    "In [Cortez and Morais, 2007], the output 'area' was first transformed with a ln(x+1) function. Then, several Data Mining methods were applied. After fitting the models, the outputs were post-processed with the inverse of the ln(x+1) transform. Four different input setups were used. The experiments were conducted using a 10-fold (cross-validation) x 30 runs. Two regression metrics were measured: MAD and RMSE. A Gaussian support vector machine (SVM) fed with only 4 direct weather conditions (temp, RH, wind and rain) obtained the best MAD value: 12.71 +- 0.01 (mean and confidence interval within 95% using a t-student distribution). The best RMSE was attained by the naive mean predictor. An analysis to the regression error curve (REC) shows that the SVM model predicts more examples within a lower admitted error. In effect, the SVM model predicts better small fires, which are the majority. \n",
    "\n",
    "### Features\n",
    "\n",
    "1. `X `- x-axis spatial coordinate within the Montesinho park map: 1 to 9\n",
    "2. `Y `- y-axis spatial coordinate within the Montesinho park map: 2 to 9\n",
    "3. `month` - month of the year: 'jan' to 'dec'\n",
    "4. `day` - day of the week: 'mon' to 'sun'\n",
    "5. `FFMC` - FFMC (Fine Fuel Moisture Code) index from the FWI system: 18.7 to 96.20\n",
    "6. `DMC` - DMC (Dufe moisture Code) index from the FWI system: 1.1 to 291.3\n",
    "7. `DC` - DC (Drought Code) index from the FWI (Fire Weather Index) system: 7.9 to 860.6\n",
    "8. `ISI` - ISI (Initial Spread Index) index from the FWI system: 0.0 to 56.10\n",
    "9. `temp` - temperature in Celsius degrees: 2.2 to 33.30\n",
    "10. `RH` - relative humidity in %: 15.0 to 100\n",
    "11. `wind` - wind speed in km/h: 0.40 to 9.40\n",
    "12. `rain` - outside rain in mm/m2 : 0.0 to 6.4\n",
    "13. `area` - the burned area of the forest (in ha): 0.00 to 1090.84 \n",
    "\n",
    "`FFMC`: Denotes the moisture content surface litter and influences ignition and fire spread. \n",
    "\n",
    "`DMC and DC`: Represent the moisture content of shallow and deep organic layers, which affect fire intensity.\n",
    "\n",
    "`ISI`: Score that correlates with fire velocity spread.\n",
    "\n",
    "### Objectives\n",
    "\n",
    "We will build a regression model able to predict the burned area by forest fire according with the above features. As we have pre processed different dataset through statistical analysis, We will proceed to use some of them to develop the most possible efficient model. In this notebook we will use support machine Regression (SVR)."
   ]
  },
  {
   "cell_type": "code",
   "execution_count": 19,
   "metadata": {},
   "outputs": [],
   "source": [
    "# Libraries\n",
    "import pandas as pd\n",
    "import numpy as np\n",
    "import matplotlib.pyplot as plt\n",
    "import seaborn as sns\n",
    "from sklearn.preprocessing import MinMaxScaler\n",
    "from sklearn.metrics import r2_score, mean_absolute_error, mean_squared_error\n",
    "from sklearn.model_selection import train_test_split\n",
    "from sklearn.model_selection import RandomizedSearchCV"
   ]
  },
  {
   "cell_type": "code",
   "execution_count": 2,
   "metadata": {},
   "outputs": [],
   "source": [
    "# Transforming categorical data month into numbers\n",
    "def cat_trans(X):\n",
    "    X['month'] = X['month'].replace('jan', 1)\n",
    "    X['month'] = X['month'].replace('feb', 2)\n",
    "    X['month'] = X['month'].replace('mar', 3)\n",
    "    X['month'] = X['month'].replace('apr', 4)\n",
    "    X['month'] = X['month'].replace('may', 5)\n",
    "    X['month'] = X['month'].replace('jun', 6)\n",
    "    X['month'] = X['month'].replace('jul', 7)\n",
    "    X['month'] = X['month'].replace('aug', 8)\n",
    "    X['month'] = X['month'].replace('sep', 9)\n",
    "    X['month'] = X['month'].replace('oct', 10)\n",
    "    X['month'] = X['month'].replace('nov', 11)\n",
    "    X['month'] = X['month'].replace('dec', 12)\n",
    "    return X"
   ]
  },
  {
   "cell_type": "markdown",
   "metadata": {},
   "source": [
    "## 1. Using the original dataset"
   ]
  },
  {
   "cell_type": "code",
   "execution_count": 138,
   "metadata": {},
   "outputs": [
    {
     "data": {
      "text/html": [
       "<div>\n",
       "<style scoped>\n",
       "    .dataframe tbody tr th:only-of-type {\n",
       "        vertical-align: middle;\n",
       "    }\n",
       "\n",
       "    .dataframe tbody tr th {\n",
       "        vertical-align: top;\n",
       "    }\n",
       "\n",
       "    .dataframe thead th {\n",
       "        text-align: right;\n",
       "    }\n",
       "</style>\n",
       "<table border=\"1\" class=\"dataframe\">\n",
       "  <thead>\n",
       "    <tr style=\"text-align: right;\">\n",
       "      <th></th>\n",
       "      <th>X</th>\n",
       "      <th>Y</th>\n",
       "      <th>month</th>\n",
       "      <th>day</th>\n",
       "      <th>FFMC</th>\n",
       "      <th>DMC</th>\n",
       "      <th>DC</th>\n",
       "      <th>ISI</th>\n",
       "      <th>temp</th>\n",
       "      <th>RH</th>\n",
       "      <th>wind</th>\n",
       "      <th>rain</th>\n",
       "      <th>area</th>\n",
       "    </tr>\n",
       "  </thead>\n",
       "  <tbody>\n",
       "    <tr>\n",
       "      <th>0</th>\n",
       "      <td>7</td>\n",
       "      <td>5</td>\n",
       "      <td>mar</td>\n",
       "      <td>fri</td>\n",
       "      <td>86.2</td>\n",
       "      <td>26.2</td>\n",
       "      <td>94.3</td>\n",
       "      <td>5.1</td>\n",
       "      <td>8.2</td>\n",
       "      <td>51</td>\n",
       "      <td>6.7</td>\n",
       "      <td>0.0</td>\n",
       "      <td>0.0</td>\n",
       "    </tr>\n",
       "    <tr>\n",
       "      <th>1</th>\n",
       "      <td>7</td>\n",
       "      <td>4</td>\n",
       "      <td>oct</td>\n",
       "      <td>tue</td>\n",
       "      <td>90.6</td>\n",
       "      <td>35.4</td>\n",
       "      <td>669.1</td>\n",
       "      <td>6.7</td>\n",
       "      <td>18.0</td>\n",
       "      <td>33</td>\n",
       "      <td>0.9</td>\n",
       "      <td>0.0</td>\n",
       "      <td>0.0</td>\n",
       "    </tr>\n",
       "    <tr>\n",
       "      <th>2</th>\n",
       "      <td>7</td>\n",
       "      <td>4</td>\n",
       "      <td>oct</td>\n",
       "      <td>sat</td>\n",
       "      <td>90.6</td>\n",
       "      <td>43.7</td>\n",
       "      <td>686.9</td>\n",
       "      <td>6.7</td>\n",
       "      <td>14.6</td>\n",
       "      <td>33</td>\n",
       "      <td>1.3</td>\n",
       "      <td>0.0</td>\n",
       "      <td>0.0</td>\n",
       "    </tr>\n",
       "    <tr>\n",
       "      <th>3</th>\n",
       "      <td>8</td>\n",
       "      <td>6</td>\n",
       "      <td>mar</td>\n",
       "      <td>fri</td>\n",
       "      <td>91.7</td>\n",
       "      <td>33.3</td>\n",
       "      <td>77.5</td>\n",
       "      <td>9.0</td>\n",
       "      <td>8.3</td>\n",
       "      <td>97</td>\n",
       "      <td>4.0</td>\n",
       "      <td>0.2</td>\n",
       "      <td>0.0</td>\n",
       "    </tr>\n",
       "    <tr>\n",
       "      <th>4</th>\n",
       "      <td>8</td>\n",
       "      <td>6</td>\n",
       "      <td>mar</td>\n",
       "      <td>sun</td>\n",
       "      <td>89.3</td>\n",
       "      <td>51.3</td>\n",
       "      <td>102.2</td>\n",
       "      <td>9.6</td>\n",
       "      <td>11.4</td>\n",
       "      <td>99</td>\n",
       "      <td>1.8</td>\n",
       "      <td>0.0</td>\n",
       "      <td>0.0</td>\n",
       "    </tr>\n",
       "  </tbody>\n",
       "</table>\n",
       "</div>"
      ],
      "text/plain": [
       "   X  Y month  day  FFMC   DMC     DC  ISI  temp  RH  wind  rain  area\n",
       "0  7  5   mar  fri  86.2  26.2   94.3  5.1   8.2  51   6.7   0.0   0.0\n",
       "1  7  4   oct  tue  90.6  35.4  669.1  6.7  18.0  33   0.9   0.0   0.0\n",
       "2  7  4   oct  sat  90.6  43.7  686.9  6.7  14.6  33   1.3   0.0   0.0\n",
       "3  8  6   mar  fri  91.7  33.3   77.5  9.0   8.3  97   4.0   0.2   0.0\n",
       "4  8  6   mar  sun  89.3  51.3  102.2  9.6  11.4  99   1.8   0.0   0.0"
      ]
     },
     "execution_count": 138,
     "metadata": {},
     "output_type": "execute_result"
    }
   ],
   "source": [
    "from sklearn.tree import DecisionTreeRegressor\n",
    "model_orig = DecisionTreeRegressor()\n",
    "data = pd.read_csv('datasets/forestfires.csv')\n",
    "\n",
    "data.head()"
   ]
  },
  {
   "cell_type": "code",
   "execution_count": 11,
   "metadata": {},
   "outputs": [
    {
     "data": {
      "text/html": [
       "<div>\n",
       "<style scoped>\n",
       "    .dataframe tbody tr th:only-of-type {\n",
       "        vertical-align: middle;\n",
       "    }\n",
       "\n",
       "    .dataframe tbody tr th {\n",
       "        vertical-align: top;\n",
       "    }\n",
       "\n",
       "    .dataframe thead th {\n",
       "        text-align: right;\n",
       "    }\n",
       "</style>\n",
       "<table border=\"1\" class=\"dataframe\">\n",
       "  <thead>\n",
       "    <tr style=\"text-align: right;\">\n",
       "      <th></th>\n",
       "      <th>X</th>\n",
       "      <th>Y</th>\n",
       "      <th>FFMC</th>\n",
       "      <th>DMC</th>\n",
       "      <th>DC</th>\n",
       "      <th>ISI</th>\n",
       "      <th>temp</th>\n",
       "      <th>RH</th>\n",
       "      <th>wind</th>\n",
       "      <th>rain</th>\n",
       "      <th>area</th>\n",
       "    </tr>\n",
       "  </thead>\n",
       "  <tbody>\n",
       "    <tr>\n",
       "      <th>count</th>\n",
       "      <td>517.000000</td>\n",
       "      <td>517.000000</td>\n",
       "      <td>517.000000</td>\n",
       "      <td>517.000000</td>\n",
       "      <td>517.000000</td>\n",
       "      <td>517.000000</td>\n",
       "      <td>517.000000</td>\n",
       "      <td>517.000000</td>\n",
       "      <td>517.000000</td>\n",
       "      <td>517.000000</td>\n",
       "      <td>517.000000</td>\n",
       "    </tr>\n",
       "    <tr>\n",
       "      <th>mean</th>\n",
       "      <td>4.669246</td>\n",
       "      <td>4.299807</td>\n",
       "      <td>90.644681</td>\n",
       "      <td>110.872340</td>\n",
       "      <td>547.940039</td>\n",
       "      <td>9.021663</td>\n",
       "      <td>18.889168</td>\n",
       "      <td>44.288201</td>\n",
       "      <td>4.017602</td>\n",
       "      <td>0.021663</td>\n",
       "      <td>12.847292</td>\n",
       "    </tr>\n",
       "    <tr>\n",
       "      <th>std</th>\n",
       "      <td>2.313778</td>\n",
       "      <td>1.229900</td>\n",
       "      <td>5.520111</td>\n",
       "      <td>64.046482</td>\n",
       "      <td>248.066192</td>\n",
       "      <td>4.559477</td>\n",
       "      <td>5.806625</td>\n",
       "      <td>16.317469</td>\n",
       "      <td>1.791653</td>\n",
       "      <td>0.295959</td>\n",
       "      <td>63.655818</td>\n",
       "    </tr>\n",
       "    <tr>\n",
       "      <th>min</th>\n",
       "      <td>1.000000</td>\n",
       "      <td>2.000000</td>\n",
       "      <td>18.700000</td>\n",
       "      <td>1.100000</td>\n",
       "      <td>7.900000</td>\n",
       "      <td>0.000000</td>\n",
       "      <td>2.200000</td>\n",
       "      <td>15.000000</td>\n",
       "      <td>0.400000</td>\n",
       "      <td>0.000000</td>\n",
       "      <td>0.000000</td>\n",
       "    </tr>\n",
       "    <tr>\n",
       "      <th>25%</th>\n",
       "      <td>3.000000</td>\n",
       "      <td>4.000000</td>\n",
       "      <td>90.200000</td>\n",
       "      <td>68.600000</td>\n",
       "      <td>437.700000</td>\n",
       "      <td>6.500000</td>\n",
       "      <td>15.500000</td>\n",
       "      <td>33.000000</td>\n",
       "      <td>2.700000</td>\n",
       "      <td>0.000000</td>\n",
       "      <td>0.000000</td>\n",
       "    </tr>\n",
       "    <tr>\n",
       "      <th>50%</th>\n",
       "      <td>4.000000</td>\n",
       "      <td>4.000000</td>\n",
       "      <td>91.600000</td>\n",
       "      <td>108.300000</td>\n",
       "      <td>664.200000</td>\n",
       "      <td>8.400000</td>\n",
       "      <td>19.300000</td>\n",
       "      <td>42.000000</td>\n",
       "      <td>4.000000</td>\n",
       "      <td>0.000000</td>\n",
       "      <td>0.520000</td>\n",
       "    </tr>\n",
       "    <tr>\n",
       "      <th>75%</th>\n",
       "      <td>7.000000</td>\n",
       "      <td>5.000000</td>\n",
       "      <td>92.900000</td>\n",
       "      <td>142.400000</td>\n",
       "      <td>713.900000</td>\n",
       "      <td>10.800000</td>\n",
       "      <td>22.800000</td>\n",
       "      <td>53.000000</td>\n",
       "      <td>4.900000</td>\n",
       "      <td>0.000000</td>\n",
       "      <td>6.570000</td>\n",
       "    </tr>\n",
       "    <tr>\n",
       "      <th>max</th>\n",
       "      <td>9.000000</td>\n",
       "      <td>9.000000</td>\n",
       "      <td>96.200000</td>\n",
       "      <td>291.300000</td>\n",
       "      <td>860.600000</td>\n",
       "      <td>56.100000</td>\n",
       "      <td>33.300000</td>\n",
       "      <td>100.000000</td>\n",
       "      <td>9.400000</td>\n",
       "      <td>6.400000</td>\n",
       "      <td>1090.840000</td>\n",
       "    </tr>\n",
       "  </tbody>\n",
       "</table>\n",
       "</div>"
      ],
      "text/plain": [
       "                X           Y        FFMC         DMC          DC         ISI  \\\n",
       "count  517.000000  517.000000  517.000000  517.000000  517.000000  517.000000   \n",
       "mean     4.669246    4.299807   90.644681  110.872340  547.940039    9.021663   \n",
       "std      2.313778    1.229900    5.520111   64.046482  248.066192    4.559477   \n",
       "min      1.000000    2.000000   18.700000    1.100000    7.900000    0.000000   \n",
       "25%      3.000000    4.000000   90.200000   68.600000  437.700000    6.500000   \n",
       "50%      4.000000    4.000000   91.600000  108.300000  664.200000    8.400000   \n",
       "75%      7.000000    5.000000   92.900000  142.400000  713.900000   10.800000   \n",
       "max      9.000000    9.000000   96.200000  291.300000  860.600000   56.100000   \n",
       "\n",
       "             temp          RH        wind        rain         area  \n",
       "count  517.000000  517.000000  517.000000  517.000000   517.000000  \n",
       "mean    18.889168   44.288201    4.017602    0.021663    12.847292  \n",
       "std      5.806625   16.317469    1.791653    0.295959    63.655818  \n",
       "min      2.200000   15.000000    0.400000    0.000000     0.000000  \n",
       "25%     15.500000   33.000000    2.700000    0.000000     0.000000  \n",
       "50%     19.300000   42.000000    4.000000    0.000000     0.520000  \n",
       "75%     22.800000   53.000000    4.900000    0.000000     6.570000  \n",
       "max     33.300000  100.000000    9.400000    6.400000  1090.840000  "
      ]
     },
     "execution_count": 11,
     "metadata": {},
     "output_type": "execute_result"
    }
   ],
   "source": [
    "data.describe()"
   ]
  },
  {
   "cell_type": "markdown",
   "metadata": {},
   "source": [
    "#### Summary\n",
    "\n",
    "We notice that area has a mean of 12.84742 ha and has a maximum of 1090 and minimum of 0."
   ]
  },
  {
   "cell_type": "code",
   "execution_count": 12,
   "metadata": {},
   "outputs": [
    {
     "data": {
      "text/plain": [
       "<matplotlib.axes._subplots.AxesSubplot at 0x1e2f630d310>"
      ]
     },
     "execution_count": 12,
     "metadata": {},
     "output_type": "execute_result"
    },
    {
     "data": {
      "image/png": "[encoded data removed]",
      "text/plain": [
       "<Figure size 432x288 with 1 Axes>"
      ]
     },
     "metadata": {
      "needs_background": "light"
     },
     "output_type": "display_data"
    }
   ],
   "source": [
    "sns.scatterplot(data.temp, data.area)"
   ]
  },
  {
   "cell_type": "markdown",
   "metadata": {},
   "source": [
    "#### Analysis\n",
    "\n",
    "We can notice area has a few outliers very distant from the group. That will probably affect our model, let's see the results. To minimize their effect we will scale the data."
   ]
  },
  {
   "cell_type": "markdown",
   "metadata": {},
   "source": [
    "### Model"
   ]
  },
  {
   "cell_type": "code",
   "execution_count": 139,
   "metadata": {},
   "outputs": [
    {
     "name": "stdout",
     "output_type": "stream",
     "text": [
      "R2 square:  -0.14120156378450122  Mean Absolute Error:  0.021598650585963452  Mean Squared Error:  0.009086200862794406\n"
     ]
    }
   ],
   "source": [
    "np.random.seed(42)\n",
    "\n",
    "data.drop(['ISI', 'wind', 'rain', 'day', 'X', 'Y'], axis=1, inplace=True)\n",
    "\n",
    "\n",
    "X = data.drop('area', axis=1)\n",
    "y = data['area']\n",
    "\n",
    "X = cat_trans(X)\n",
    "\n",
    "#Splitting the data\n",
    "X_train, X_test, y_train, y_test = train_test_split(X, y, test_size=0.25, random_state=42)\n",
    "\n",
    "# Scaling the features using MinMaxScaler\n",
    "scaler = MinMaxScaler()\n",
    "X_train_scaled = scaler.fit_transform(X_train)\n",
    "X_test_scaled = scaler.transform(X_test)\n",
    "y_train = np.array(y_train).reshape(-1,1)\n",
    "y_test = np.array(y_test).reshape(-1,1)\n",
    "y_train_scaled = scaler.fit_transform(y_train)\n",
    "y_test_scaled = scaler.fit_transform(y_test)\n",
    "\n",
    "# Fitting the model\n",
    "model_orig.fit(X_train_scaled, y_train_scaled)\n",
    "\n",
    "# Making predictions\n",
    "pred = model_orig.predict(X_test_scaled)\n",
    "\n",
    "pred_u = scaler.inverse_transform(np.array(pred).reshape(-1, 1))\n",
    "y_test_u = scaler.inverse_transform(np.array(y_test_scaled).reshape(-1, 1))\n",
    "diff = np.array(pred_u) - np.array(y_test_u)\n",
    "summary_diff = pd.DataFrame(np.concatenate((pred_u, y_test_u, diff), axis=1), columns=[\"Predictions\", \"Real\", \"Difference\"])\n",
    "\n",
    "\n",
    "\n",
    "print(\n",
    "\"R2 square: \", r2_score(y_test_scaled, pred), \" Mean Absolute Error: \", mean_absolute_error(y_test_scaled, pred),\n",
    "    \" Mean Squared Error: \", mean_squared_error(y_test_scaled, pred), \n",
    " )"
   ]
  },
  {
   "cell_type": "code",
   "execution_count": 16,
   "metadata": {},
   "outputs": [
    {
     "data": {
      "text/plain": [
       "(0.015284833424065575, 0.013001908815041954)"
      ]
     },
     "execution_count": 16,
     "metadata": {},
     "output_type": "execute_result"
    }
   ],
   "source": [
    "# calculating the mean of the scaled y_test data and the prediction\n",
    "np.mean(y_test_scaled), np.mean(pred)"
   ]
  },
  {
   "cell_type": "markdown",
   "metadata": {},
   "source": [
    "#### Evaluating the unscaled prediction with the real label test:"
   ]
  },
  {
   "cell_type": "code",
   "execution_count": 140,
   "metadata": {},
   "outputs": [
    {
     "data": {
      "text/plain": [
       "(-0.14120156378450055, 23.56067200519237, 10811.96030732931)"
      ]
     },
     "execution_count": 140,
     "metadata": {},
     "output_type": "execute_result"
    }
   ],
   "source": [
    "r2_score_orig = r2_score(y_test, pred_u)\n",
    "mean_absolute_error_orig = mean_absolute_error(y_test, pred_u)\n",
    "mean_squared_error_orig = mean_squared_error(y_test, pred_u)\n",
    "r2_score_orig,mean_absolute_error_orig , mean_squared_error_orig"
   ]
  },
  {
   "cell_type": "markdown",
   "metadata": {},
   "source": [
    "### Analysis of Results\n",
    "\n",
    "We can see a huge improvement when using Decision Tree compared to Support Vector Machine. In SVR we obtained a MAE around 100, in Decision Tree we get a value of 23. This is still a very big value to count as an effective model but we have to take into account the two outliers that skew our dataset.\n",
    "\n",
    "We will tune the hyperparameters of our model and test if we can obtain better results."
   ]
  },
  {
   "cell_type": "markdown",
   "metadata": {},
   "source": [
    "#### Tuning"
   ]
  },
  {
   "cell_type": "code",
   "execution_count": 20,
   "metadata": {},
   "outputs": [
    {
     "name": "stdout",
     "output_type": "stream",
     "text": [
      "Fitting 20 folds for each of 100 candidates, totalling 2000 fits\n"
     ]
    },
    {
     "name": "stderr",
     "output_type": "stream",
     "text": [
      "[Parallel(n_jobs=1)]: Using backend SequentialBackend with 1 concurrent workers.\n",
      "[Parallel(n_jobs=1)]: Done 2000 out of 2000 | elapsed:    9.3s finished\n"
     ]
    },
    {
     "data": {
      "text/plain": [
       "{'min_samples_split': 2,\n",
       " 'min_samples_leaf': 7,\n",
       " 'max_features': 'sqrt',\n",
       " 'criterion': 'mae'}"
      ]
     },
     "execution_count": 20,
     "metadata": {},
     "output_type": "execute_result"
    }
   ],
   "source": [
    "# Different Support Vector Regressor hyperparameter\n",
    "rf_grid = {\"criterion\":[\"mse\", \"friedman_mse\", \"mae\"],\n",
    "          \"min_samples_leaf\":[1,2,3,4,5,6,7,8,9,10],\n",
    "           \"min_samples_split\":[2,3,4,5,6,7,8],\n",
    "           \"max_features\":[\"auto\", \"sqrt\", \"log2\"]\n",
    "\n",
    "          }  # limiting the maximum to save time\n",
    "\n",
    "# Instantiate RandomizedSearchCV model\n",
    "tree_model = RandomizedSearchCV(model,\n",
    "                              param_distributions=rf_grid,\n",
    "                              n_iter = 100, \n",
    "                              cv=20,\n",
    "                              verbose=True\n",
    "                             )\n",
    "# Fit the RandomizedSearchCV model\n",
    "tree_model.fit(X_train_scaled, y_train_scaled)\n",
    "\n",
    "#print(tree_model.best_params_)\n",
    "tree_model.best_params_"
   ]
  },
  {
   "cell_type": "markdown",
   "metadata": {},
   "source": [
    "#### Trying the best model"
   ]
  },
  {
   "cell_type": "code",
   "execution_count": 141,
   "metadata": {},
   "outputs": [
    {
     "name": "stdout",
     "output_type": "stream",
     "text": [
      "R2 square:  -0.021107051223762108  Mean Absolute Error:  0.015720507952767686  Mean Squared Error:  0.008130013193345753\n"
     ]
    }
   ],
   "source": [
    "model_orig_tuned = DecisionTreeRegressor(min_samples_split=2, min_samples_leaf=7, max_features='log2', criterion='mae')\n",
    "# Fitting the model\n",
    "model_orig_tuned.fit(X_train_scaled, y_train_scaled)\n",
    "\n",
    "# Making predictions\n",
    "pred = model_orig_tuned.predict(X_test_scaled)\n",
    "\n",
    "pred_u = scaler.inverse_transform(np.array(pred).reshape(-1, 1))\n",
    "y_test_u = scaler.inverse_transform(np.array(y_test_scaled).reshape(-1, 1))\n",
    "diff = np.array(pred_u) - np.array(y_test_u)\n",
    "summary_diff = pd.DataFrame(np.concatenate((pred_u, y_test_u, diff), axis=1), columns=[\"Predictions\", \"Real\", \"Difference\"])\n",
    "\n",
    "print(\n",
    "\"R2 square: \", r2_score(y_test_scaled, pred), \" Mean Absolute Error: \", mean_absolute_error(y_test_scaled, pred),\n",
    "    \" Mean Squared Error: \", mean_squared_error(y_test_scaled, pred), \n",
    " )"
   ]
  },
  {
   "cell_type": "markdown",
   "metadata": {},
   "source": [
    "#### Evaluating the unscaled y_test and pred with the tuned model"
   ]
  },
  {
   "cell_type": "code",
   "execution_count": 142,
   "metadata": {},
   "outputs": [
    {
     "data": {
      "text/plain": [
       "(-0.021107051223762108, 17.148558895197098, 9674.162091711056)"
      ]
     },
     "execution_count": 142,
     "metadata": {},
     "output_type": "execute_result"
    }
   ],
   "source": [
    "r2_score_orig_tuned = r2_score(y_test, pred_u)\n",
    "mean_absolute_error_orig_tuned = mean_absolute_error(y_test, pred_u)\n",
    "mean_squared_error_orig_tuned = mean_squared_error(y_test, pred_u)\n",
    "\n",
    "\n",
    "r2_score_orig_tuned, mean_absolute_error_orig_tuned , mean_squared_error_orig_tuned\n"
   ]
  },
  {
   "cell_type": "code",
   "execution_count": 41,
   "metadata": {},
   "outputs": [
    {
     "data": {
      "text/plain": [
       "(16.67330769230769, 0.825)"
      ]
     },
     "execution_count": 41,
     "metadata": {},
     "output_type": "execute_result"
    }
   ],
   "source": [
    "np.mean(y_test), np.median(y_test)"
   ]
  },
  {
   "cell_type": "code",
   "execution_count": 42,
   "metadata": {},
   "outputs": [
    {
     "data": {
      "text/plain": [
       "(61, 130)"
      ]
     },
     "execution_count": 42,
     "metadata": {},
     "output_type": "execute_result"
    }
   ],
   "source": [
    "df = pd.DataFrame(y_test, columns=['area'])\n",
    "len(df[df.area == 0]), len(y_test)"
   ]
  },
  {
   "cell_type": "code",
   "execution_count": 40,
   "metadata": {},
   "outputs": [
    {
     "data": {
      "text/plain": [
       "<matplotlib.axes._subplots.AxesSubplot at 0x1e2f68c19a0>"
      ]
     },
     "execution_count": 40,
     "metadata": {},
     "output_type": "execute_result"
    },
    {
     "data": {
      "image/png": "[encoded data removed]",
      "text/plain": [
       "<Figure size 720x2520 with 1 Axes>"
      ]
     },
     "metadata": {
      "needs_background": "light"
     },
     "output_type": "display_data"
    }
   ],
   "source": [
    "plt.figure(figsize=(10, 35))\n",
    "sns.boxplot(y=y_test)"
   ]
  },
  {
   "cell_type": "markdown",
   "metadata": {},
   "source": [
    "### Analysis of Results\n",
    "\n",
    "By tuning a model we obtain a improvement from 23 to 17. Again, this still a bad result but our dataset present huge outliers as the boxplot graph above represents. Also we have a median less than 1 and a mean of 16. This is mostly due that 62 out 130 (48%) of our area data for the test is 0. I will try the same model next but removing these two outliers."
   ]
  },
  {
   "cell_type": "markdown",
   "metadata": {},
   "source": [
    "## 2. Using the dataset without outliers"
   ]
  },
  {
   "cell_type": "code",
   "execution_count": 144,
   "metadata": {},
   "outputs": [
    {
     "data": {
      "text/html": [
       "<div>\n",
       "<style scoped>\n",
       "    .dataframe tbody tr th:only-of-type {\n",
       "        vertical-align: middle;\n",
       "    }\n",
       "\n",
       "    .dataframe tbody tr th {\n",
       "        vertical-align: top;\n",
       "    }\n",
       "\n",
       "    .dataframe thead th {\n",
       "        text-align: right;\n",
       "    }\n",
       "</style>\n",
       "<table border=\"1\" class=\"dataframe\">\n",
       "  <thead>\n",
       "    <tr style=\"text-align: right;\">\n",
       "      <th></th>\n",
       "      <th>X</th>\n",
       "      <th>Y</th>\n",
       "      <th>month</th>\n",
       "      <th>day</th>\n",
       "      <th>FFMC</th>\n",
       "      <th>DMC</th>\n",
       "      <th>DC</th>\n",
       "      <th>ISI</th>\n",
       "      <th>temp</th>\n",
       "      <th>RH</th>\n",
       "      <th>wind</th>\n",
       "      <th>rain</th>\n",
       "      <th>area</th>\n",
       "    </tr>\n",
       "  </thead>\n",
       "  <tbody>\n",
       "    <tr>\n",
       "      <th>0</th>\n",
       "      <td>4</td>\n",
       "      <td>5</td>\n",
       "      <td>1</td>\n",
       "      <td>1</td>\n",
       "      <td>18.7</td>\n",
       "      <td>1.1</td>\n",
       "      <td>171.4</td>\n",
       "      <td>0.0</td>\n",
       "      <td>5.2</td>\n",
       "      <td>100</td>\n",
       "      <td>0.9</td>\n",
       "      <td>0.0</td>\n",
       "      <td>0.00</td>\n",
       "    </tr>\n",
       "    <tr>\n",
       "      <th>1</th>\n",
       "      <td>2</td>\n",
       "      <td>4</td>\n",
       "      <td>1</td>\n",
       "      <td>7</td>\n",
       "      <td>82.1</td>\n",
       "      <td>3.7</td>\n",
       "      <td>9.3</td>\n",
       "      <td>2.9</td>\n",
       "      <td>5.3</td>\n",
       "      <td>78</td>\n",
       "      <td>3.1</td>\n",
       "      <td>0.0</td>\n",
       "      <td>0.00</td>\n",
       "    </tr>\n",
       "    <tr>\n",
       "      <th>2</th>\n",
       "      <td>5</td>\n",
       "      <td>4</td>\n",
       "      <td>2</td>\n",
       "      <td>1</td>\n",
       "      <td>86.8</td>\n",
       "      <td>15.6</td>\n",
       "      <td>48.3</td>\n",
       "      <td>3.9</td>\n",
       "      <td>12.4</td>\n",
       "      <td>53</td>\n",
       "      <td>2.2</td>\n",
       "      <td>0.0</td>\n",
       "      <td>6.38</td>\n",
       "    </tr>\n",
       "    <tr>\n",
       "      <th>3</th>\n",
       "      <td>7</td>\n",
       "      <td>4</td>\n",
       "      <td>2</td>\n",
       "      <td>1</td>\n",
       "      <td>83.9</td>\n",
       "      <td>8.7</td>\n",
       "      <td>32.1</td>\n",
       "      <td>2.1</td>\n",
       "      <td>8.8</td>\n",
       "      <td>68</td>\n",
       "      <td>2.2</td>\n",
       "      <td>0.0</td>\n",
       "      <td>13.05</td>\n",
       "    </tr>\n",
       "    <tr>\n",
       "      <th>4</th>\n",
       "      <td>6</td>\n",
       "      <td>3</td>\n",
       "      <td>2</td>\n",
       "      <td>1</td>\n",
       "      <td>84.9</td>\n",
       "      <td>27.5</td>\n",
       "      <td>353.5</td>\n",
       "      <td>3.4</td>\n",
       "      <td>4.2</td>\n",
       "      <td>51</td>\n",
       "      <td>4.0</td>\n",
       "      <td>0.0</td>\n",
       "      <td>0.00</td>\n",
       "    </tr>\n",
       "  </tbody>\n",
       "</table>\n",
       "</div>"
      ],
      "text/plain": [
       "   X  Y  month  day  FFMC   DMC     DC  ISI  temp   RH  wind  rain   area\n",
       "0  4  5      1    1  18.7   1.1  171.4  0.0   5.2  100   0.9   0.0   0.00\n",
       "1  2  4      1    7  82.1   3.7    9.3  2.9   5.3   78   3.1   0.0   0.00\n",
       "2  5  4      2    1  86.8  15.6   48.3  3.9  12.4   53   2.2   0.0   6.38\n",
       "3  7  4      2    1  83.9   8.7   32.1  2.1   8.8   68   2.2   0.0  13.05\n",
       "4  6  3      2    1  84.9  27.5  353.5  3.4   4.2   51   4.0   0.0   0.00"
      ]
     },
     "execution_count": 144,
     "metadata": {},
     "output_type": "execute_result"
    }
   ],
   "source": [
    "data_cl = pd.read_csv('datasets/forestfires_no_outliers.csv')\n",
    "data_cl.drop('Unnamed: 0', axis=1, inplace=True)\n",
    "data_cl.head()"
   ]
  },
  {
   "cell_type": "code",
   "execution_count": 44,
   "metadata": {},
   "outputs": [
    {
     "data": {
      "text/html": [
       "<div>\n",
       "<style scoped>\n",
       "    .dataframe tbody tr th:only-of-type {\n",
       "        vertical-align: middle;\n",
       "    }\n",
       "\n",
       "    .dataframe tbody tr th {\n",
       "        vertical-align: top;\n",
       "    }\n",
       "\n",
       "    .dataframe thead th {\n",
       "        text-align: right;\n",
       "    }\n",
       "</style>\n",
       "<table border=\"1\" class=\"dataframe\">\n",
       "  <thead>\n",
       "    <tr style=\"text-align: right;\">\n",
       "      <th></th>\n",
       "      <th>X</th>\n",
       "      <th>Y</th>\n",
       "      <th>month</th>\n",
       "      <th>day</th>\n",
       "      <th>FFMC</th>\n",
       "      <th>DMC</th>\n",
       "      <th>DC</th>\n",
       "      <th>ISI</th>\n",
       "      <th>temp</th>\n",
       "      <th>RH</th>\n",
       "      <th>wind</th>\n",
       "      <th>rain</th>\n",
       "      <th>area</th>\n",
       "    </tr>\n",
       "  </thead>\n",
       "  <tbody>\n",
       "    <tr>\n",
       "      <th>count</th>\n",
       "      <td>515.000000</td>\n",
       "      <td>515.000000</td>\n",
       "      <td>515.000000</td>\n",
       "      <td>515.000000</td>\n",
       "      <td>515.000000</td>\n",
       "      <td>515.000000</td>\n",
       "      <td>515.000000</td>\n",
       "      <td>515.000000</td>\n",
       "      <td>515.000000</td>\n",
       "      <td>515.000000</td>\n",
       "      <td>515.000000</td>\n",
       "      <td>515.000000</td>\n",
       "      <td>515.000000</td>\n",
       "    </tr>\n",
       "    <tr>\n",
       "      <th>mean</th>\n",
       "      <td>4.660194</td>\n",
       "      <td>4.295146</td>\n",
       "      <td>7.471845</td>\n",
       "      <td>3.965049</td>\n",
       "      <td>90.633010</td>\n",
       "      <td>110.635922</td>\n",
       "      <td>547.401942</td>\n",
       "      <td>9.013010</td>\n",
       "      <td>18.860388</td>\n",
       "      <td>44.355340</td>\n",
       "      <td>4.015922</td>\n",
       "      <td>0.021748</td>\n",
       "      <td>9.329961</td>\n",
       "    </tr>\n",
       "    <tr>\n",
       "      <th>std</th>\n",
       "      <td>2.312853</td>\n",
       "      <td>1.229610</td>\n",
       "      <td>2.279302</td>\n",
       "      <td>2.143387</td>\n",
       "      <td>5.527184</td>\n",
       "      <td>63.980106</td>\n",
       "      <td>248.396286</td>\n",
       "      <td>4.563223</td>\n",
       "      <td>5.798962</td>\n",
       "      <td>16.313441</td>\n",
       "      <td>1.794712</td>\n",
       "      <td>0.296531</td>\n",
       "      <td>27.350635</td>\n",
       "    </tr>\n",
       "    <tr>\n",
       "      <th>min</th>\n",
       "      <td>1.000000</td>\n",
       "      <td>2.000000</td>\n",
       "      <td>1.000000</td>\n",
       "      <td>1.000000</td>\n",
       "      <td>18.700000</td>\n",
       "      <td>1.100000</td>\n",
       "      <td>7.900000</td>\n",
       "      <td>0.000000</td>\n",
       "      <td>2.200000</td>\n",
       "      <td>15.000000</td>\n",
       "      <td>0.400000</td>\n",
       "      <td>0.000000</td>\n",
       "      <td>0.000000</td>\n",
       "    </tr>\n",
       "    <tr>\n",
       "      <th>25%</th>\n",
       "      <td>3.000000</td>\n",
       "      <td>4.000000</td>\n",
       "      <td>7.000000</td>\n",
       "      <td>2.000000</td>\n",
       "      <td>90.200000</td>\n",
       "      <td>65.450000</td>\n",
       "      <td>435.500000</td>\n",
       "      <td>6.450000</td>\n",
       "      <td>15.500000</td>\n",
       "      <td>33.000000</td>\n",
       "      <td>2.700000</td>\n",
       "      <td>0.000000</td>\n",
       "      <td>0.000000</td>\n",
       "    </tr>\n",
       "    <tr>\n",
       "      <th>50%</th>\n",
       "      <td>4.000000</td>\n",
       "      <td>4.000000</td>\n",
       "      <td>8.000000</td>\n",
       "      <td>4.000000</td>\n",
       "      <td>91.600000</td>\n",
       "      <td>108.300000</td>\n",
       "      <td>661.800000</td>\n",
       "      <td>8.400000</td>\n",
       "      <td>19.300000</td>\n",
       "      <td>42.000000</td>\n",
       "      <td>4.000000</td>\n",
       "      <td>0.000000</td>\n",
       "      <td>0.520000</td>\n",
       "    </tr>\n",
       "    <tr>\n",
       "      <th>75%</th>\n",
       "      <td>7.000000</td>\n",
       "      <td>5.000000</td>\n",
       "      <td>9.000000</td>\n",
       "      <td>6.000000</td>\n",
       "      <td>92.900000</td>\n",
       "      <td>141.850000</td>\n",
       "      <td>713.900000</td>\n",
       "      <td>10.750000</td>\n",
       "      <td>22.800000</td>\n",
       "      <td>53.000000</td>\n",
       "      <td>4.900000</td>\n",
       "      <td>0.000000</td>\n",
       "      <td>6.490000</td>\n",
       "    </tr>\n",
       "    <tr>\n",
       "      <th>max</th>\n",
       "      <td>9.000000</td>\n",
       "      <td>9.000000</td>\n",
       "      <td>12.000000</td>\n",
       "      <td>7.000000</td>\n",
       "      <td>96.200000</td>\n",
       "      <td>291.300000</td>\n",
       "      <td>860.600000</td>\n",
       "      <td>56.100000</td>\n",
       "      <td>33.300000</td>\n",
       "      <td>100.000000</td>\n",
       "      <td>9.400000</td>\n",
       "      <td>6.400000</td>\n",
       "      <td>278.530000</td>\n",
       "    </tr>\n",
       "  </tbody>\n",
       "</table>\n",
       "</div>"
      ],
      "text/plain": [
       "                X           Y       month         day        FFMC         DMC  \\\n",
       "count  515.000000  515.000000  515.000000  515.000000  515.000000  515.000000   \n",
       "mean     4.660194    4.295146    7.471845    3.965049   90.633010  110.635922   \n",
       "std      2.312853    1.229610    2.279302    2.143387    5.527184   63.980106   \n",
       "min      1.000000    2.000000    1.000000    1.000000   18.700000    1.100000   \n",
       "25%      3.000000    4.000000    7.000000    2.000000   90.200000   65.450000   \n",
       "50%      4.000000    4.000000    8.000000    4.000000   91.600000  108.300000   \n",
       "75%      7.000000    5.000000    9.000000    6.000000   92.900000  141.850000   \n",
       "max      9.000000    9.000000   12.000000    7.000000   96.200000  291.300000   \n",
       "\n",
       "               DC         ISI        temp          RH        wind        rain  \\\n",
       "count  515.000000  515.000000  515.000000  515.000000  515.000000  515.000000   \n",
       "mean   547.401942    9.013010   18.860388   44.355340    4.015922    0.021748   \n",
       "std    248.396286    4.563223    5.798962   16.313441    1.794712    0.296531   \n",
       "min      7.900000    0.000000    2.200000   15.000000    0.400000    0.000000   \n",
       "25%    435.500000    6.450000   15.500000   33.000000    2.700000    0.000000   \n",
       "50%    661.800000    8.400000   19.300000   42.000000    4.000000    0.000000   \n",
       "75%    713.900000   10.750000   22.800000   53.000000    4.900000    0.000000   \n",
       "max    860.600000   56.100000   33.300000  100.000000    9.400000    6.400000   \n",
       "\n",
       "             area  \n",
       "count  515.000000  \n",
       "mean     9.329961  \n",
       "std     27.350635  \n",
       "min      0.000000  \n",
       "25%      0.000000  \n",
       "50%      0.520000  \n",
       "75%      6.490000  \n",
       "max    278.530000  "
      ]
     },
     "execution_count": 44,
     "metadata": {},
     "output_type": "execute_result"
    }
   ],
   "source": [
    "data_cl.describe()"
   ]
  },
  {
   "cell_type": "code",
   "execution_count": 45,
   "metadata": {},
   "outputs": [
    {
     "data": {
      "text/plain": [
       "<matplotlib.axes._subplots.AxesSubplot at 0x1e2f68c5d90>"
      ]
     },
     "execution_count": 45,
     "metadata": {},
     "output_type": "execute_result"
    },
    {
     "data": {
      "image/png": "[encoded data removed]",
      "text/plain": [
       "<Figure size 720x2520 with 1 Axes>"
      ]
     },
     "metadata": {
      "needs_background": "light"
     },
     "output_type": "display_data"
    }
   ],
   "source": [
    "plt.figure(figsize=(10,35))\n",
    "sns.boxplot(y=data_cl.area)"
   ]
  },
  {
   "cell_type": "markdown",
   "metadata": {},
   "source": [
    "#### Analysis\n",
    "\n",
    "As we can see, our target data is completely skewed. It includes many 0 values and therefore too many outliers. However, the two outliers that heavily affected the prior dataset were removed. Let's see the decision tree model effectiveness with this dataset "
   ]
  },
  {
   "cell_type": "markdown",
   "metadata": {},
   "source": [
    "### Modelling "
   ]
  },
  {
   "cell_type": "code",
   "execution_count": 145,
   "metadata": {},
   "outputs": [
    {
     "name": "stdout",
     "output_type": "stream",
     "text": [
      "R2 square:  -0.7710571043519114  Mean Absolute Error:  0.08863764082364695  Mean Squared Error:  0.031966319179190295\n"
     ]
    }
   ],
   "source": [
    "np.random.seed(42)\n",
    "\n",
    "data_cl.drop(['ISI', 'wind', 'rain', 'day', 'X', 'Y'], axis=1, inplace=True)\n",
    "model_orig_no = DecisionTreeRegressor()\n",
    "\n",
    "X = data_cl.drop('area', axis=1)\n",
    "y = data_cl['area']\n",
    "\n",
    "X = cat_trans(X)\n",
    "\n",
    "#Splitting the data\n",
    "X_train, X_test, y_train, y_test = train_test_split(X, y, test_size=0.25, random_state=42)\n",
    "\n",
    "# Scaling the features using MinMaxScaler\n",
    "scaler = MinMaxScaler()\n",
    "X_train_scaled = scaler.fit_transform(X_train)\n",
    "X_test_scaled = scaler.transform(X_test)\n",
    "y_train = np.array(y_train).reshape(-1,1)\n",
    "y_test = np.array(y_test).reshape(-1,1)\n",
    "y_train_scaled = scaler.fit_transform(y_train)\n",
    "y_test_scaled = scaler.fit_transform(y_test)\n",
    "\n",
    "# Fitting the model\n",
    "model_orig_no.fit(X_train_scaled, y_train_scaled)\n",
    "\n",
    "# Making predictions\n",
    "pred = model_orig_no.predict(X_test_scaled)\n",
    "\n",
    "pred_u = scaler.inverse_transform(np.array(pred).reshape(-1, 1))\n",
    "y_test_u = scaler.inverse_transform(np.array(y_test_scaled).reshape(-1, 1))\n",
    "diff = np.array(pred_u) - np.array(y_test_u)\n",
    "summary_diff = pd.DataFrame(np.concatenate((pred_u, y_test_u, diff), axis=1), columns=[\"Predictions\", \"Real\", \"Difference\"])\n",
    "\n",
    "\n",
    "\n",
    "print(\n",
    "\"R2 square: \", r2_score(y_test_scaled, pred), \" Mean Absolute Error: \", mean_absolute_error(y_test_scaled, pred),\n",
    "    \" Mean Squared Error: \", mean_squared_error(y_test_scaled, pred), \n",
    " )"
   ]
  },
  {
   "cell_type": "markdown",
   "metadata": {},
   "source": [
    "### Evaluating the unscaled prediction with the real label test:"
   ]
  },
  {
   "cell_type": "code",
   "execution_count": 146,
   "metadata": {},
   "outputs": [
    {
     "data": {
      "text/plain": [
       "(-0.7710571043519119, 8.436530653594717, 289.59031441686216)"
      ]
     },
     "execution_count": 146,
     "metadata": {},
     "output_type": "execute_result"
    }
   ],
   "source": [
    "r2_score_orig_no = r2_score(y_test, pred_u)\n",
    "mean_absolute_error_orig_no = mean_absolute_error(y_test, pred_u)\n",
    "mean_squared_error_orig_no = mean_squared_error(y_test, pred_u)\n",
    "\n",
    "r2_score_orig_no, mean_absolute_error_orig_no, mean_squared_error_orig_no"
   ]
  },
  {
   "cell_type": "code",
   "execution_count": 51,
   "metadata": {},
   "outputs": [
    {
     "data": {
      "text/html": [
       "<div>\n",
       "<style scoped>\n",
       "    .dataframe tbody tr th:only-of-type {\n",
       "        vertical-align: middle;\n",
       "    }\n",
       "\n",
       "    .dataframe tbody tr th {\n",
       "        vertical-align: top;\n",
       "    }\n",
       "\n",
       "    .dataframe thead th {\n",
       "        text-align: right;\n",
       "    }\n",
       "</style>\n",
       "<table border=\"1\" class=\"dataframe\">\n",
       "  <thead>\n",
       "    <tr style=\"text-align: right;\">\n",
       "      <th></th>\n",
       "      <th>Predictions</th>\n",
       "      <th>Real</th>\n",
       "      <th>Difference</th>\n",
       "    </tr>\n",
       "  </thead>\n",
       "  <tbody>\n",
       "    <tr>\n",
       "      <th>0</th>\n",
       "      <td>0.051258</td>\n",
       "      <td>1.38</td>\n",
       "      <td>-1.328742</td>\n",
       "    </tr>\n",
       "    <tr>\n",
       "      <th>1</th>\n",
       "      <td>0.000000</td>\n",
       "      <td>0.00</td>\n",
       "      <td>0.000000</td>\n",
       "    </tr>\n",
       "    <tr>\n",
       "      <th>2</th>\n",
       "      <td>0.000000</td>\n",
       "      <td>19.23</td>\n",
       "      <td>-19.230000</td>\n",
       "    </tr>\n",
       "    <tr>\n",
       "      <th>3</th>\n",
       "      <td>0.000000</td>\n",
       "      <td>10.13</td>\n",
       "      <td>-10.130000</td>\n",
       "    </tr>\n",
       "    <tr>\n",
       "      <th>4</th>\n",
       "      <td>0.000000</td>\n",
       "      <td>0.00</td>\n",
       "      <td>0.000000</td>\n",
       "    </tr>\n",
       "    <tr>\n",
       "      <th>...</th>\n",
       "      <td>...</td>\n",
       "      <td>...</td>\n",
       "      <td>...</td>\n",
       "    </tr>\n",
       "    <tr>\n",
       "      <th>124</th>\n",
       "      <td>0.000000</td>\n",
       "      <td>4.88</td>\n",
       "      <td>-4.880000</td>\n",
       "    </tr>\n",
       "    <tr>\n",
       "      <th>125</th>\n",
       "      <td>0.000000</td>\n",
       "      <td>0.00</td>\n",
       "      <td>0.000000</td>\n",
       "    </tr>\n",
       "    <tr>\n",
       "      <th>126</th>\n",
       "      <td>0.000000</td>\n",
       "      <td>0.00</td>\n",
       "      <td>0.000000</td>\n",
       "    </tr>\n",
       "    <tr>\n",
       "      <th>127</th>\n",
       "      <td>0.000000</td>\n",
       "      <td>0.00</td>\n",
       "      <td>0.000000</td>\n",
       "    </tr>\n",
       "    <tr>\n",
       "      <th>128</th>\n",
       "      <td>1.578758</td>\n",
       "      <td>0.00</td>\n",
       "      <td>1.578758</td>\n",
       "    </tr>\n",
       "  </tbody>\n",
       "</table>\n",
       "<p>129 rows × 3 columns</p>\n",
       "</div>"
      ],
      "text/plain": [
       "     Predictions   Real  Difference\n",
       "0       0.051258   1.38   -1.328742\n",
       "1       0.000000   0.00    0.000000\n",
       "2       0.000000  19.23  -19.230000\n",
       "3       0.000000  10.13  -10.130000\n",
       "4       0.000000   0.00    0.000000\n",
       "..           ...    ...         ...\n",
       "124     0.000000   4.88   -4.880000\n",
       "125     0.000000   0.00    0.000000\n",
       "126     0.000000   0.00    0.000000\n",
       "127     0.000000   0.00    0.000000\n",
       "128     1.578758   0.00    1.578758\n",
       "\n",
       "[129 rows x 3 columns]"
      ]
     },
     "execution_count": 51,
     "metadata": {},
     "output_type": "execute_result"
    }
   ],
   "source": [
    "summary_diff"
   ]
  },
  {
   "cell_type": "markdown",
   "metadata": {},
   "source": [
    "#### Analysis of the results\n",
    "\n",
    "We have a considerable improvement with this dataset. We have a reduction of the MAE from 17 to 5. and a MSE improvement from 9716 to 190. Removing the two bigger outliers have a considerable impact in the model. I will proceed to tune this model to look for a higher effectiveness."
   ]
  },
  {
   "cell_type": "markdown",
   "metadata": {},
   "source": [
    "### Tuning the model"
   ]
  },
  {
   "cell_type": "code",
   "execution_count": 53,
   "metadata": {},
   "outputs": [
    {
     "name": "stdout",
     "output_type": "stream",
     "text": [
      "Fitting 20 folds for each of 100 candidates, totalling 2000 fits\n"
     ]
    },
    {
     "name": "stderr",
     "output_type": "stream",
     "text": [
      "[Parallel(n_jobs=1)]: Using backend SequentialBackend with 1 concurrent workers.\n",
      "[Parallel(n_jobs=1)]: Done 2000 out of 2000 | elapsed:   10.6s finished\n"
     ]
    },
    {
     "data": {
      "text/plain": [
       "{'min_samples_split': 7,\n",
       " 'min_samples_leaf': 8,\n",
       " 'max_features': 'sqrt',\n",
       " 'criterion': 'mae'}"
      ]
     },
     "execution_count": 53,
     "metadata": {},
     "output_type": "execute_result"
    }
   ],
   "source": [
    "# Different Support Vector Regressor hyperparameter\n",
    "rf_grid = {\"criterion\":[\"mse\", \"friedman_mse\", \"mae\"],\n",
    "          \"min_samples_leaf\":[1,2,3,4,5,6,7,8,9,10],\n",
    "           \"min_samples_split\":[2,3,4,5,6,7,8],\n",
    "           \"max_features\":[\"auto\", \"sqrt\", \"log2\"]\n",
    "\n",
    "          }  # limiting the maximum to save time\n",
    "\n",
    "# Instantiate RandomizedSearchCV model\n",
    "tree_model = RandomizedSearchCV(model,\n",
    "                              param_distributions=rf_grid,\n",
    "                              n_iter = 100, \n",
    "                              cv=20,\n",
    "                              verbose=True\n",
    "                             )\n",
    "# Fit the RandomizedSearchCV model\n",
    "tree_model.fit(X_train_scaled, y_train_scaled)\n",
    "\n",
    "#print(tree_model.best_params_)\n",
    "tree_model.best_params_"
   ]
  },
  {
   "cell_type": "markdown",
   "metadata": {},
   "source": [
    "#### Trying the best model"
   ]
  },
  {
   "cell_type": "code",
   "execution_count": 147,
   "metadata": {},
   "outputs": [
    {
     "data": {
      "text/plain": [
       "(-0.165867284359422, 5.733825284849558, 190.6340979160725)"
      ]
     },
     "execution_count": 147,
     "metadata": {},
     "output_type": "execute_result"
    }
   ],
   "source": [
    "np.random.seed(42)\n",
    "model_orig_no_tuned = DecisionTreeRegressor(min_samples_split=7, min_samples_leaf=8, max_features='sqrt', criterion='mae')\n",
    "# Fitting the model\n",
    "model_orig_no_tuned.fit(X_train_scaled, y_train_scaled)\n",
    "\n",
    "# Making predictions\n",
    "pred = model_orig_no_tuned.predict(X_test_scaled)\n",
    "\n",
    "pred_u = scaler.inverse_transform(np.array(pred).reshape(-1, 1))\n",
    "y_test_u = scaler.inverse_transform(np.array(y_test_scaled).reshape(-1, 1))\n",
    "diff = np.array(pred_u) - np.array(y_test_u)\n",
    "summary_diff = pd.DataFrame(np.concatenate((pred_u, y_test_u, diff), axis=1), columns=[\"Predictions\", \"Real\", \"Difference\"])\n",
    "\n",
    "r2_score_orig_no_tuned = r2_score(y_test, pred_u)\n",
    "mean_absolute_error_orig_no_tuned = mean_absolute_error(y_test, pred_u)\n",
    "mean_squared_error_orig_no_tuned = mean_squared_error(y_test, pred_u)\n",
    "\n",
    "r2_score_orig_no_tuned, mean_absolute_error_orig_no_tuned, mean_squared_error_orig_no_tuned\n"
   ]
  },
  {
   "cell_type": "markdown",
   "metadata": {},
   "source": [
    "#### Result Analysis.\n",
    "\n",
    "We don't get too much improvement by tuning the model. We have seen our area data has a lot of zeros referring to the case there is not forest fire. However, due this data is taking into consideration when building the model, and the MAE of our model is not the best possible, it is crucial that our model does not detect a possible fire of 10ha when the real area does not detect a fire. \n",
    "\n",
    "Because of this reason, we created a dataset that only covers when fire breaks, so using the model built upon this dataset we cannot whether will be a fire or not, but we can predict, once a fire break, how many ha of area can cover up given the different features."
   ]
  },
  {
   "cell_type": "markdown",
   "metadata": {},
   "source": [
    "## 3.Using the hazard data with outliers"
   ]
  },
  {
   "cell_type": "code",
   "execution_count": 148,
   "metadata": {},
   "outputs": [
    {
     "data": {
      "text/html": [
       "<div>\n",
       "<style scoped>\n",
       "    .dataframe tbody tr th:only-of-type {\n",
       "        vertical-align: middle;\n",
       "    }\n",
       "\n",
       "    .dataframe tbody tr th {\n",
       "        vertical-align: top;\n",
       "    }\n",
       "\n",
       "    .dataframe thead th {\n",
       "        text-align: right;\n",
       "    }\n",
       "</style>\n",
       "<table border=\"1\" class=\"dataframe\">\n",
       "  <thead>\n",
       "    <tr style=\"text-align: right;\">\n",
       "      <th></th>\n",
       "      <th>X</th>\n",
       "      <th>Y</th>\n",
       "      <th>month</th>\n",
       "      <th>day</th>\n",
       "      <th>FFMC</th>\n",
       "      <th>DMC</th>\n",
       "      <th>DC</th>\n",
       "      <th>ISI</th>\n",
       "      <th>temp</th>\n",
       "      <th>RH</th>\n",
       "      <th>wind</th>\n",
       "      <th>rain</th>\n",
       "      <th>area</th>\n",
       "    </tr>\n",
       "  </thead>\n",
       "  <tbody>\n",
       "    <tr>\n",
       "      <th>0</th>\n",
       "      <td>5</td>\n",
       "      <td>4</td>\n",
       "      <td>2</td>\n",
       "      <td>1</td>\n",
       "      <td>86.8</td>\n",
       "      <td>15.6</td>\n",
       "      <td>48.3</td>\n",
       "      <td>3.9</td>\n",
       "      <td>12.4</td>\n",
       "      <td>53</td>\n",
       "      <td>2.2</td>\n",
       "      <td>0.0</td>\n",
       "      <td>6.38</td>\n",
       "    </tr>\n",
       "    <tr>\n",
       "      <th>1</th>\n",
       "      <td>7</td>\n",
       "      <td>4</td>\n",
       "      <td>2</td>\n",
       "      <td>1</td>\n",
       "      <td>83.9</td>\n",
       "      <td>8.7</td>\n",
       "      <td>32.1</td>\n",
       "      <td>2.1</td>\n",
       "      <td>8.8</td>\n",
       "      <td>68</td>\n",
       "      <td>2.2</td>\n",
       "      <td>0.0</td>\n",
       "      <td>13.05</td>\n",
       "    </tr>\n",
       "    <tr>\n",
       "      <th>2</th>\n",
       "      <td>4</td>\n",
       "      <td>5</td>\n",
       "      <td>2</td>\n",
       "      <td>1</td>\n",
       "      <td>85.0</td>\n",
       "      <td>9.0</td>\n",
       "      <td>56.9</td>\n",
       "      <td>3.5</td>\n",
       "      <td>10.1</td>\n",
       "      <td>62</td>\n",
       "      <td>1.8</td>\n",
       "      <td>0.0</td>\n",
       "      <td>51.78</td>\n",
       "    </tr>\n",
       "    <tr>\n",
       "      <th>3</th>\n",
       "      <td>7</td>\n",
       "      <td>4</td>\n",
       "      <td>2</td>\n",
       "      <td>2</td>\n",
       "      <td>84.7</td>\n",
       "      <td>9.5</td>\n",
       "      <td>58.3</td>\n",
       "      <td>4.1</td>\n",
       "      <td>7.5</td>\n",
       "      <td>71</td>\n",
       "      <td>6.3</td>\n",
       "      <td>0.0</td>\n",
       "      <td>9.96</td>\n",
       "    </tr>\n",
       "    <tr>\n",
       "      <th>4</th>\n",
       "      <td>6</td>\n",
       "      <td>5</td>\n",
       "      <td>2</td>\n",
       "      <td>3</td>\n",
       "      <td>75.1</td>\n",
       "      <td>4.4</td>\n",
       "      <td>16.2</td>\n",
       "      <td>1.9</td>\n",
       "      <td>4.6</td>\n",
       "      <td>82</td>\n",
       "      <td>6.3</td>\n",
       "      <td>0.0</td>\n",
       "      <td>5.39</td>\n",
       "    </tr>\n",
       "  </tbody>\n",
       "</table>\n",
       "</div>"
      ],
      "text/plain": [
       "   X  Y  month  day  FFMC   DMC    DC  ISI  temp  RH  wind  rain   area\n",
       "0  5  4      2    1  86.8  15.6  48.3  3.9  12.4  53   2.2   0.0   6.38\n",
       "1  7  4      2    1  83.9   8.7  32.1  2.1   8.8  68   2.2   0.0  13.05\n",
       "2  4  5      2    1  85.0   9.0  56.9  3.5  10.1  62   1.8   0.0  51.78\n",
       "3  7  4      2    2  84.7   9.5  58.3  4.1   7.5  71   6.3   0.0   9.96\n",
       "4  6  5      2    3  75.1   4.4  16.2  1.9   4.6  82   6.3   0.0   5.39"
      ]
     },
     "execution_count": 148,
     "metadata": {},
     "output_type": "execute_result"
    }
   ],
   "source": [
    "data_aff = pd.read_csv('datasets/forest_fires_affected_areas.csv')\n",
    "data_aff.drop('Unnamed: 0', axis=1, inplace=True)\n",
    "model=DecisionTreeRegressor()\n",
    "data_aff.head()"
   ]
  },
  {
   "cell_type": "code",
   "execution_count": 82,
   "metadata": {},
   "outputs": [
    {
     "data": {
      "text/html": [
       "<div>\n",
       "<style scoped>\n",
       "    .dataframe tbody tr th:only-of-type {\n",
       "        vertical-align: middle;\n",
       "    }\n",
       "\n",
       "    .dataframe tbody tr th {\n",
       "        vertical-align: top;\n",
       "    }\n",
       "\n",
       "    .dataframe thead th {\n",
       "        text-align: right;\n",
       "    }\n",
       "</style>\n",
       "<table border=\"1\" class=\"dataframe\">\n",
       "  <thead>\n",
       "    <tr style=\"text-align: right;\">\n",
       "      <th></th>\n",
       "      <th>X</th>\n",
       "      <th>Y</th>\n",
       "      <th>month</th>\n",
       "      <th>day</th>\n",
       "      <th>FFMC</th>\n",
       "      <th>DMC</th>\n",
       "      <th>DC</th>\n",
       "      <th>ISI</th>\n",
       "      <th>temp</th>\n",
       "      <th>RH</th>\n",
       "      <th>wind</th>\n",
       "      <th>rain</th>\n",
       "      <th>area</th>\n",
       "    </tr>\n",
       "  </thead>\n",
       "  <tbody>\n",
       "    <tr>\n",
       "      <th>count</th>\n",
       "      <td>270.000000</td>\n",
       "      <td>270.000000</td>\n",
       "      <td>270.000000</td>\n",
       "      <td>270.000000</td>\n",
       "      <td>270.000000</td>\n",
       "      <td>270.000000</td>\n",
       "      <td>270.000000</td>\n",
       "      <td>270.000000</td>\n",
       "      <td>270.000000</td>\n",
       "      <td>270.000000</td>\n",
       "      <td>270.000000</td>\n",
       "      <td>270.000000</td>\n",
       "      <td>270.000000</td>\n",
       "    </tr>\n",
       "    <tr>\n",
       "      <th>mean</th>\n",
       "      <td>4.807407</td>\n",
       "      <td>4.366667</td>\n",
       "      <td>7.759259</td>\n",
       "      <td>3.955556</td>\n",
       "      <td>91.034074</td>\n",
       "      <td>114.707778</td>\n",
       "      <td>570.867037</td>\n",
       "      <td>9.177037</td>\n",
       "      <td>19.311111</td>\n",
       "      <td>43.733333</td>\n",
       "      <td>4.112963</td>\n",
       "      <td>0.028889</td>\n",
       "      <td>24.600185</td>\n",
       "    </tr>\n",
       "    <tr>\n",
       "      <th>std</th>\n",
       "      <td>2.383326</td>\n",
       "      <td>1.170740</td>\n",
       "      <td>2.115048</td>\n",
       "      <td>2.108107</td>\n",
       "      <td>3.709020</td>\n",
       "      <td>61.786520</td>\n",
       "      <td>229.981242</td>\n",
       "      <td>4.147350</td>\n",
       "      <td>6.179444</td>\n",
       "      <td>15.080059</td>\n",
       "      <td>1.884573</td>\n",
       "      <td>0.398392</td>\n",
       "      <td>86.501635</td>\n",
       "    </tr>\n",
       "    <tr>\n",
       "      <th>min</th>\n",
       "      <td>1.000000</td>\n",
       "      <td>2.000000</td>\n",
       "      <td>2.000000</td>\n",
       "      <td>1.000000</td>\n",
       "      <td>63.500000</td>\n",
       "      <td>3.200000</td>\n",
       "      <td>15.300000</td>\n",
       "      <td>0.800000</td>\n",
       "      <td>2.200000</td>\n",
       "      <td>15.000000</td>\n",
       "      <td>0.400000</td>\n",
       "      <td>0.000000</td>\n",
       "      <td>0.090000</td>\n",
       "    </tr>\n",
       "    <tr>\n",
       "      <th>25%</th>\n",
       "      <td>3.000000</td>\n",
       "      <td>4.000000</td>\n",
       "      <td>8.000000</td>\n",
       "      <td>2.000000</td>\n",
       "      <td>90.325000</td>\n",
       "      <td>82.900000</td>\n",
       "      <td>486.500000</td>\n",
       "      <td>6.800000</td>\n",
       "      <td>16.125000</td>\n",
       "      <td>33.000000</td>\n",
       "      <td>2.700000</td>\n",
       "      <td>0.000000</td>\n",
       "      <td>2.140000</td>\n",
       "    </tr>\n",
       "    <tr>\n",
       "      <th>50%</th>\n",
       "      <td>5.000000</td>\n",
       "      <td>4.000000</td>\n",
       "      <td>8.000000</td>\n",
       "      <td>4.000000</td>\n",
       "      <td>91.700000</td>\n",
       "      <td>111.700000</td>\n",
       "      <td>665.600000</td>\n",
       "      <td>8.400000</td>\n",
       "      <td>20.100000</td>\n",
       "      <td>41.000000</td>\n",
       "      <td>4.000000</td>\n",
       "      <td>0.000000</td>\n",
       "      <td>6.370000</td>\n",
       "    </tr>\n",
       "    <tr>\n",
       "      <th>75%</th>\n",
       "      <td>7.000000</td>\n",
       "      <td>5.000000</td>\n",
       "      <td>9.000000</td>\n",
       "      <td>6.000000</td>\n",
       "      <td>92.975000</td>\n",
       "      <td>141.300000</td>\n",
       "      <td>721.325000</td>\n",
       "      <td>11.375000</td>\n",
       "      <td>23.400000</td>\n",
       "      <td>53.000000</td>\n",
       "      <td>4.900000</td>\n",
       "      <td>0.000000</td>\n",
       "      <td>15.422500</td>\n",
       "    </tr>\n",
       "    <tr>\n",
       "      <th>max</th>\n",
       "      <td>9.000000</td>\n",
       "      <td>9.000000</td>\n",
       "      <td>12.000000</td>\n",
       "      <td>7.000000</td>\n",
       "      <td>96.200000</td>\n",
       "      <td>291.300000</td>\n",
       "      <td>860.600000</td>\n",
       "      <td>22.700000</td>\n",
       "      <td>33.300000</td>\n",
       "      <td>96.000000</td>\n",
       "      <td>9.400000</td>\n",
       "      <td>6.400000</td>\n",
       "      <td>1090.840000</td>\n",
       "    </tr>\n",
       "  </tbody>\n",
       "</table>\n",
       "</div>"
      ],
      "text/plain": [
       "                X           Y       month         day        FFMC         DMC  \\\n",
       "count  270.000000  270.000000  270.000000  270.000000  270.000000  270.000000   \n",
       "mean     4.807407    4.366667    7.759259    3.955556   91.034074  114.707778   \n",
       "std      2.383326    1.170740    2.115048    2.108107    3.709020   61.786520   \n",
       "min      1.000000    2.000000    2.000000    1.000000   63.500000    3.200000   \n",
       "25%      3.000000    4.000000    8.000000    2.000000   90.325000   82.900000   \n",
       "50%      5.000000    4.000000    8.000000    4.000000   91.700000  111.700000   \n",
       "75%      7.000000    5.000000    9.000000    6.000000   92.975000  141.300000   \n",
       "max      9.000000    9.000000   12.000000    7.000000   96.200000  291.300000   \n",
       "\n",
       "               DC         ISI        temp          RH        wind        rain  \\\n",
       "count  270.000000  270.000000  270.000000  270.000000  270.000000  270.000000   \n",
       "mean   570.867037    9.177037   19.311111   43.733333    4.112963    0.028889   \n",
       "std    229.981242    4.147350    6.179444   15.080059    1.884573    0.398392   \n",
       "min     15.300000    0.800000    2.200000   15.000000    0.400000    0.000000   \n",
       "25%    486.500000    6.800000   16.125000   33.000000    2.700000    0.000000   \n",
       "50%    665.600000    8.400000   20.100000   41.000000    4.000000    0.000000   \n",
       "75%    721.325000   11.375000   23.400000   53.000000    4.900000    0.000000   \n",
       "max    860.600000   22.700000   33.300000   96.000000    9.400000    6.400000   \n",
       "\n",
       "              area  \n",
       "count   270.000000  \n",
       "mean     24.600185  \n",
       "std      86.501635  \n",
       "min       0.090000  \n",
       "25%       2.140000  \n",
       "50%       6.370000  \n",
       "75%      15.422500  \n",
       "max    1090.840000  "
      ]
     },
     "execution_count": 82,
     "metadata": {},
     "output_type": "execute_result"
    }
   ],
   "source": [
    "data_aff.describe()"
   ]
  },
  {
   "cell_type": "code",
   "execution_count": 92,
   "metadata": {},
   "outputs": [
    {
     "data": {
      "text/plain": [
       "<matplotlib.collections.PathCollection at 0x1e2f6fbd3d0>"
      ]
     },
     "execution_count": 92,
     "metadata": {},
     "output_type": "execute_result"
    },
    {
     "data": {
      "image/png": "[encoded data removed]",
      "text/plain": [
       "<Figure size 432x288 with 1 Axes>"
      ]
     },
     "metadata": {
      "needs_background": "light"
     },
     "output_type": "display_data"
    }
   ],
   "source": [
    "plt.scatter(data_aff.temp, data_aff.area)"
   ]
  },
  {
   "cell_type": "code",
   "execution_count": 149,
   "metadata": {},
   "outputs": [
    {
     "name": "stdout",
     "output_type": "stream",
     "text": [
      "R2 square:  -0.1789100347511059  Mean Absolute Error:  0.04228393725816216  Mean Squared Error:  0.017391267002116483\n"
     ]
    }
   ],
   "source": [
    "np.random.seed(42)\n",
    "model_aff = DecisionTreeRegressor()\n",
    "data_aff.drop(['ISI', 'wind', 'rain', 'day', 'X', 'Y'], axis=1, inplace=True)\n",
    "\n",
    "\n",
    "X = data_aff.drop('area', axis=1)\n",
    "y = data_aff['area']\n",
    "\n",
    "X = cat_trans(X)\n",
    "\n",
    "#Splitting the data\n",
    "X_train, X_test, y_train, y_test = train_test_split(X, y, test_size=0.25, random_state=42)\n",
    "\n",
    "# Scaling the features using MinMaxScaler\n",
    "scaler = MinMaxScaler()\n",
    "X_train_scaled = scaler.fit_transform(X_train)\n",
    "X_test_scaled = scaler.transform(X_test)\n",
    "y_train = np.array(y_train).reshape(-1,1)\n",
    "y_test = np.array(y_test).reshape(-1,1)\n",
    "y_train_scaled = scaler.fit_transform(y_train)\n",
    "y_test_scaled = scaler.fit_transform(y_test)\n",
    "\n",
    "# Fitting the model\n",
    "model_aff.fit(X_train_scaled, y_train_scaled)\n",
    "\n",
    "# Making predictions\n",
    "pred = model_aff.predict(X_test_scaled)\n",
    "\n",
    "# Unscalling the predictions\n",
    "pred_u = scaler.inverse_transform(np.array(pred).reshape(-1, 1))\n",
    "y_test_u = scaler.inverse_transform(np.array(y_test_scaled).reshape(-1, 1))\n",
    "diff = np.array(pred_u) - np.array(y_test_u)\n",
    "summary_diff = pd.DataFrame(np.concatenate((pred_u, y_test_u, diff), axis=1), columns=[\"Predictions\", \"Real\", \"Difference\"])\n",
    "\n",
    "\n",
    "\n",
    "print(\n",
    "\"R2 square: \", r2_score(y_test_scaled, pred), \" Mean Absolute Error: \", mean_absolute_error(y_test_scaled, pred),\n",
    "    \" Mean Squared Error: \", mean_squared_error(y_test_scaled, pred), \n",
    " )"
   ]
  },
  {
   "cell_type": "markdown",
   "metadata": {},
   "source": [
    "### Evaluating the model with the real data and unscaled pred"
   ]
  },
  {
   "cell_type": "code",
   "execution_count": 150,
   "metadata": {},
   "outputs": [
    {
     "data": {
      "text/plain": [
       "(-0.17891003475110567, 46.12120456434038, 20691.008829350736)"
      ]
     },
     "execution_count": 150,
     "metadata": {},
     "output_type": "execute_result"
    }
   ],
   "source": [
    "r2_score_aff = r2_score(y_test, pred_u)\n",
    "mean_absolute_error_aff = mean_absolute_error(y_test, pred_u)\n",
    "mean_squared_error_aff = mean_squared_error(y_test, pred_u)\n",
    "\n",
    "\n",
    "r2_score_aff, mean_absolute_error_aff,mean_squared_error_aff\n"
   ]
  },
  {
   "cell_type": "markdown",
   "metadata": {},
   "source": [
    "#### Analysis of results:\n",
    "\n",
    "We can notice that the outliers have a heavy influence in the effectiveness of our model. Next we will remove these outliers and see how improve our model."
   ]
  },
  {
   "cell_type": "markdown",
   "metadata": {},
   "source": [
    "## 4. Using the hazard dataset without outliers"
   ]
  },
  {
   "cell_type": "code",
   "execution_count": 151,
   "metadata": {},
   "outputs": [
    {
     "data": {
      "text/html": [
       "<div>\n",
       "<style scoped>\n",
       "    .dataframe tbody tr th:only-of-type {\n",
       "        vertical-align: middle;\n",
       "    }\n",
       "\n",
       "    .dataframe tbody tr th {\n",
       "        vertical-align: top;\n",
       "    }\n",
       "\n",
       "    .dataframe thead th {\n",
       "        text-align: right;\n",
       "    }\n",
       "</style>\n",
       "<table border=\"1\" class=\"dataframe\">\n",
       "  <thead>\n",
       "    <tr style=\"text-align: right;\">\n",
       "      <th></th>\n",
       "      <th>X</th>\n",
       "      <th>Y</th>\n",
       "      <th>month</th>\n",
       "      <th>day</th>\n",
       "      <th>FFMC</th>\n",
       "      <th>DMC</th>\n",
       "      <th>DC</th>\n",
       "      <th>ISI</th>\n",
       "      <th>temp</th>\n",
       "      <th>RH</th>\n",
       "      <th>wind</th>\n",
       "      <th>rain</th>\n",
       "      <th>area</th>\n",
       "    </tr>\n",
       "  </thead>\n",
       "  <tbody>\n",
       "    <tr>\n",
       "      <th>0</th>\n",
       "      <td>5</td>\n",
       "      <td>4</td>\n",
       "      <td>2</td>\n",
       "      <td>1</td>\n",
       "      <td>86.8</td>\n",
       "      <td>15.6</td>\n",
       "      <td>48.3</td>\n",
       "      <td>3.9</td>\n",
       "      <td>12.4</td>\n",
       "      <td>53</td>\n",
       "      <td>2.2</td>\n",
       "      <td>0.0</td>\n",
       "      <td>6.38</td>\n",
       "    </tr>\n",
       "    <tr>\n",
       "      <th>1</th>\n",
       "      <td>7</td>\n",
       "      <td>4</td>\n",
       "      <td>2</td>\n",
       "      <td>1</td>\n",
       "      <td>83.9</td>\n",
       "      <td>8.7</td>\n",
       "      <td>32.1</td>\n",
       "      <td>2.1</td>\n",
       "      <td>8.8</td>\n",
       "      <td>68</td>\n",
       "      <td>2.2</td>\n",
       "      <td>0.0</td>\n",
       "      <td>13.05</td>\n",
       "    </tr>\n",
       "    <tr>\n",
       "      <th>2</th>\n",
       "      <td>4</td>\n",
       "      <td>5</td>\n",
       "      <td>2</td>\n",
       "      <td>1</td>\n",
       "      <td>85.0</td>\n",
       "      <td>9.0</td>\n",
       "      <td>56.9</td>\n",
       "      <td>3.5</td>\n",
       "      <td>10.1</td>\n",
       "      <td>62</td>\n",
       "      <td>1.8</td>\n",
       "      <td>0.0</td>\n",
       "      <td>51.78</td>\n",
       "    </tr>\n",
       "    <tr>\n",
       "      <th>3</th>\n",
       "      <td>7</td>\n",
       "      <td>4</td>\n",
       "      <td>2</td>\n",
       "      <td>2</td>\n",
       "      <td>84.7</td>\n",
       "      <td>9.5</td>\n",
       "      <td>58.3</td>\n",
       "      <td>4.1</td>\n",
       "      <td>7.5</td>\n",
       "      <td>71</td>\n",
       "      <td>6.3</td>\n",
       "      <td>0.0</td>\n",
       "      <td>9.96</td>\n",
       "    </tr>\n",
       "    <tr>\n",
       "      <th>4</th>\n",
       "      <td>6</td>\n",
       "      <td>5</td>\n",
       "      <td>2</td>\n",
       "      <td>3</td>\n",
       "      <td>75.1</td>\n",
       "      <td>4.4</td>\n",
       "      <td>16.2</td>\n",
       "      <td>1.9</td>\n",
       "      <td>4.6</td>\n",
       "      <td>82</td>\n",
       "      <td>6.3</td>\n",
       "      <td>0.0</td>\n",
       "      <td>5.39</td>\n",
       "    </tr>\n",
       "  </tbody>\n",
       "</table>\n",
       "</div>"
      ],
      "text/plain": [
       "   X  Y  month  day  FFMC   DMC    DC  ISI  temp  RH  wind  rain   area\n",
       "0  5  4      2    1  86.8  15.6  48.3  3.9  12.4  53   2.2   0.0   6.38\n",
       "1  7  4      2    1  83.9   8.7  32.1  2.1   8.8  68   2.2   0.0  13.05\n",
       "2  4  5      2    1  85.0   9.0  56.9  3.5  10.1  62   1.8   0.0  51.78\n",
       "3  7  4      2    2  84.7   9.5  58.3  4.1   7.5  71   6.3   0.0   9.96\n",
       "4  6  5      2    3  75.1   4.4  16.2  1.9   4.6  82   6.3   0.0   5.39"
      ]
     },
     "execution_count": 151,
     "metadata": {},
     "output_type": "execute_result"
    }
   ],
   "source": [
    "data_aff_cl = pd.read_csv('datasets/forestfires_affected_areas_no_outliers.csv')\n",
    "data_aff_cl.drop('Unnamed: 0', axis=1, inplace=True)\n",
    "data_aff_cl.head()"
   ]
  },
  {
   "cell_type": "code",
   "execution_count": 90,
   "metadata": {},
   "outputs": [
    {
     "data": {
      "text/html": [
       "<div>\n",
       "<style scoped>\n",
       "    .dataframe tbody tr th:only-of-type {\n",
       "        vertical-align: middle;\n",
       "    }\n",
       "\n",
       "    .dataframe tbody tr th {\n",
       "        vertical-align: top;\n",
       "    }\n",
       "\n",
       "    .dataframe thead th {\n",
       "        text-align: right;\n",
       "    }\n",
       "</style>\n",
       "<table border=\"1\" class=\"dataframe\">\n",
       "  <thead>\n",
       "    <tr style=\"text-align: right;\">\n",
       "      <th></th>\n",
       "      <th>X</th>\n",
       "      <th>Y</th>\n",
       "      <th>month</th>\n",
       "      <th>day</th>\n",
       "      <th>FFMC</th>\n",
       "      <th>DMC</th>\n",
       "      <th>DC</th>\n",
       "      <th>ISI</th>\n",
       "      <th>temp</th>\n",
       "      <th>RH</th>\n",
       "      <th>wind</th>\n",
       "      <th>rain</th>\n",
       "      <th>area</th>\n",
       "    </tr>\n",
       "  </thead>\n",
       "  <tbody>\n",
       "    <tr>\n",
       "      <th>count</th>\n",
       "      <td>268.000000</td>\n",
       "      <td>268.000000</td>\n",
       "      <td>268.000000</td>\n",
       "      <td>268.000000</td>\n",
       "      <td>268.000000</td>\n",
       "      <td>268.000000</td>\n",
       "      <td>268.000000</td>\n",
       "      <td>268.000000</td>\n",
       "      <td>268.000000</td>\n",
       "      <td>268.000000</td>\n",
       "      <td>268.000000</td>\n",
       "      <td>268.000000</td>\n",
       "      <td>268.000000</td>\n",
       "    </tr>\n",
       "    <tr>\n",
       "      <th>mean</th>\n",
       "      <td>4.791045</td>\n",
       "      <td>4.358209</td>\n",
       "      <td>7.753731</td>\n",
       "      <td>3.940299</td>\n",
       "      <td>91.014552</td>\n",
       "      <td>114.282090</td>\n",
       "      <td>570.004104</td>\n",
       "      <td>9.161567</td>\n",
       "      <td>19.258955</td>\n",
       "      <td>43.858209</td>\n",
       "      <td>4.110448</td>\n",
       "      <td>0.029104</td>\n",
       "      <td>17.928843</td>\n",
       "    </tr>\n",
       "    <tr>\n",
       "      <th>std</th>\n",
       "      <td>2.383070</td>\n",
       "      <td>1.170185</td>\n",
       "      <td>2.121538</td>\n",
       "      <td>2.106744</td>\n",
       "      <td>3.714610</td>\n",
       "      <td>61.663591</td>\n",
       "      <td>230.619948</td>\n",
       "      <td>4.152628</td>\n",
       "      <td>6.171885</td>\n",
       "      <td>15.066471</td>\n",
       "      <td>1.890991</td>\n",
       "      <td>0.399874</td>\n",
       "      <td>35.851567</td>\n",
       "    </tr>\n",
       "    <tr>\n",
       "      <th>min</th>\n",
       "      <td>1.000000</td>\n",
       "      <td>2.000000</td>\n",
       "      <td>2.000000</td>\n",
       "      <td>1.000000</td>\n",
       "      <td>63.500000</td>\n",
       "      <td>3.200000</td>\n",
       "      <td>15.300000</td>\n",
       "      <td>0.800000</td>\n",
       "      <td>2.200000</td>\n",
       "      <td>15.000000</td>\n",
       "      <td>0.400000</td>\n",
       "      <td>0.000000</td>\n",
       "      <td>0.090000</td>\n",
       "    </tr>\n",
       "    <tr>\n",
       "      <th>25%</th>\n",
       "      <td>2.750000</td>\n",
       "      <td>4.000000</td>\n",
       "      <td>8.000000</td>\n",
       "      <td>2.000000</td>\n",
       "      <td>90.300000</td>\n",
       "      <td>82.625000</td>\n",
       "      <td>480.800000</td>\n",
       "      <td>6.800000</td>\n",
       "      <td>16.100000</td>\n",
       "      <td>33.000000</td>\n",
       "      <td>2.700000</td>\n",
       "      <td>0.000000</td>\n",
       "      <td>2.137500</td>\n",
       "    </tr>\n",
       "    <tr>\n",
       "      <th>50%</th>\n",
       "      <td>5.000000</td>\n",
       "      <td>4.000000</td>\n",
       "      <td>8.000000</td>\n",
       "      <td>4.000000</td>\n",
       "      <td>91.650000</td>\n",
       "      <td>111.700000</td>\n",
       "      <td>665.450000</td>\n",
       "      <td>8.400000</td>\n",
       "      <td>20.100000</td>\n",
       "      <td>41.000000</td>\n",
       "      <td>4.000000</td>\n",
       "      <td>0.000000</td>\n",
       "      <td>6.330000</td>\n",
       "    </tr>\n",
       "    <tr>\n",
       "      <th>75%</th>\n",
       "      <td>7.000000</td>\n",
       "      <td>5.000000</td>\n",
       "      <td>9.000000</td>\n",
       "      <td>6.000000</td>\n",
       "      <td>92.925000</td>\n",
       "      <td>141.300000</td>\n",
       "      <td>721.400000</td>\n",
       "      <td>11.325000</td>\n",
       "      <td>23.325000</td>\n",
       "      <td>53.000000</td>\n",
       "      <td>4.900000</td>\n",
       "      <td>0.000000</td>\n",
       "      <td>14.845000</td>\n",
       "    </tr>\n",
       "    <tr>\n",
       "      <th>max</th>\n",
       "      <td>9.000000</td>\n",
       "      <td>9.000000</td>\n",
       "      <td>12.000000</td>\n",
       "      <td>7.000000</td>\n",
       "      <td>96.200000</td>\n",
       "      <td>291.300000</td>\n",
       "      <td>860.600000</td>\n",
       "      <td>22.700000</td>\n",
       "      <td>33.300000</td>\n",
       "      <td>96.000000</td>\n",
       "      <td>9.400000</td>\n",
       "      <td>6.400000</td>\n",
       "      <td>278.530000</td>\n",
       "    </tr>\n",
       "  </tbody>\n",
       "</table>\n",
       "</div>"
      ],
      "text/plain": [
       "                X           Y       month         day        FFMC         DMC  \\\n",
       "count  268.000000  268.000000  268.000000  268.000000  268.000000  268.000000   \n",
       "mean     4.791045    4.358209    7.753731    3.940299   91.014552  114.282090   \n",
       "std      2.383070    1.170185    2.121538    2.106744    3.714610   61.663591   \n",
       "min      1.000000    2.000000    2.000000    1.000000   63.500000    3.200000   \n",
       "25%      2.750000    4.000000    8.000000    2.000000   90.300000   82.625000   \n",
       "50%      5.000000    4.000000    8.000000    4.000000   91.650000  111.700000   \n",
       "75%      7.000000    5.000000    9.000000    6.000000   92.925000  141.300000   \n",
       "max      9.000000    9.000000   12.000000    7.000000   96.200000  291.300000   \n",
       "\n",
       "               DC         ISI        temp          RH        wind        rain  \\\n",
       "count  268.000000  268.000000  268.000000  268.000000  268.000000  268.000000   \n",
       "mean   570.004104    9.161567   19.258955   43.858209    4.110448    0.029104   \n",
       "std    230.619948    4.152628    6.171885   15.066471    1.890991    0.399874   \n",
       "min     15.300000    0.800000    2.200000   15.000000    0.400000    0.000000   \n",
       "25%    480.800000    6.800000   16.100000   33.000000    2.700000    0.000000   \n",
       "50%    665.450000    8.400000   20.100000   41.000000    4.000000    0.000000   \n",
       "75%    721.400000   11.325000   23.325000   53.000000    4.900000    0.000000   \n",
       "max    860.600000   22.700000   33.300000   96.000000    9.400000    6.400000   \n",
       "\n",
       "             area  \n",
       "count  268.000000  \n",
       "mean    17.928843  \n",
       "std     35.851567  \n",
       "min      0.090000  \n",
       "25%      2.137500  \n",
       "50%      6.330000  \n",
       "75%     14.845000  \n",
       "max    278.530000  "
      ]
     },
     "execution_count": 90,
     "metadata": {},
     "output_type": "execute_result"
    }
   ],
   "source": [
    "data_aff_cl.describe()"
   ]
  },
  {
   "cell_type": "code",
   "execution_count": 91,
   "metadata": {},
   "outputs": [
    {
     "data": {
      "text/plain": [
       "<matplotlib.collections.PathCollection at 0x1e2f69f8b80>"
      ]
     },
     "execution_count": 91,
     "metadata": {},
     "output_type": "execute_result"
    },
    {
     "data": {
      "image/png": "[encoded data removed]",
      "text/plain": [
       "<Figure size 432x288 with 1 Axes>"
      ]
     },
     "metadata": {
      "needs_background": "light"
     },
     "output_type": "display_data"
    }
   ],
   "source": [
    "plt.scatter(data_aff_cl.temp,data_aff_cl.area)"
   ]
  },
  {
   "cell_type": "code",
   "execution_count": 152,
   "metadata": {},
   "outputs": [
    {
     "name": "stdout",
     "output_type": "stream",
     "text": [
      "R2 square:  -0.308734602777345  Mean Absolute Error:  0.10633759473685093  Mean Squared Error:  0.05064666240932571\n"
     ]
    }
   ],
   "source": [
    "np.random.seed(42)\n",
    "\n",
    "data_aff_cl.drop(['ISI', 'wind', 'rain', 'day', 'X', 'Y'], axis=1, inplace=True)\n",
    "\n",
    "model_aff_no = DecisionTreeRegressor()\n",
    "X = data_aff_cl.drop('area', axis=1)\n",
    "y = data_aff_cl['area']\n",
    "\n",
    "X = cat_trans(X)\n",
    "\n",
    "#Splitting the data\n",
    "X_train, X_test, y_train, y_test = train_test_split(X, y, test_size=0.25, random_state=42)\n",
    "\n",
    "# Scaling the features using MinMaxScaler\n",
    "scaler = MinMaxScaler()\n",
    "X_train_scaled = scaler.fit_transform(X_train)\n",
    "X_test_scaled = scaler.transform(X_test)\n",
    "y_train = np.array(y_train).reshape(-1,1)\n",
    "y_test = np.array(y_test).reshape(-1,1)\n",
    "y_train_scaled = scaler.fit_transform(y_train)\n",
    "y_test_scaled = scaler.fit_transform(y_test)\n",
    "\n",
    "# Fitting the model\n",
    "model_aff_no.fit(X_train_scaled, y_train_scaled)\n",
    "\n",
    "# Making predictions\n",
    "pred = model_aff_no.predict(X_test_scaled)\n",
    "\n",
    "# Unscalling the predictions\n",
    "pred_u = scaler.inverse_transform(np.array(pred).reshape(-1, 1))\n",
    "y_test_u = scaler.inverse_transform(np.array(y_test_scaled).reshape(-1, 1))\n",
    "diff = np.array(pred_u) - np.array(y_test_u)\n",
    "summary_diff = pd.DataFrame(np.concatenate((pred_u, y_test_u, diff), axis=1), columns=[\"Predictions\", \"Real\", \"Difference\"])\n",
    "\n",
    "\n",
    "\n",
    "print(\n",
    "\"R2 square: \", r2_score(y_test_scaled, pred), \" Mean Absolute Error: \", mean_absolute_error(y_test_scaled, pred),\n",
    "    \" Mean Squared Error: \", mean_squared_error(y_test_scaled, pred), \n",
    " )"
   ]
  },
  {
   "cell_type": "markdown",
   "metadata": {},
   "source": [
    "### Evaluating the model"
   ]
  },
  {
   "cell_type": "code",
   "execution_count": 153,
   "metadata": {},
   "outputs": [
    {
     "data": {
      "text/plain": [
       "(-0.30873460277734477, 19.74370121479111, 1745.9600638571994)"
      ]
     },
     "execution_count": 153,
     "metadata": {},
     "output_type": "execute_result"
    }
   ],
   "source": [
    "r2_score_aff_no = r2_score(y_test, pred_u)\n",
    "mean_absolute_error_aff_no = mean_absolute_error(y_test, pred_u)\n",
    "mean_squared_error_aff_no =mean_squared_error(y_test, pred_u)\n",
    "\n",
    "\n",
    "r2_score_aff_no, mean_absolute_error_aff_no, mean_squared_error_aff_no"
   ]
  },
  {
   "cell_type": "code",
   "execution_count": 95,
   "metadata": {},
   "outputs": [
    {
     "data": {
      "text/plain": [
       "16.912686567164176"
      ]
     },
     "execution_count": 95,
     "metadata": {},
     "output_type": "execute_result"
    }
   ],
   "source": [
    "np.mean(y_test)"
   ]
  },
  {
   "cell_type": "markdown",
   "metadata": {},
   "source": [
    "### Tuning the model"
   ]
  },
  {
   "cell_type": "code",
   "execution_count": 96,
   "metadata": {},
   "outputs": [
    {
     "name": "stdout",
     "output_type": "stream",
     "text": [
      "Fitting 20 folds for each of 100 candidates, totalling 2000 fits\n"
     ]
    },
    {
     "name": "stderr",
     "output_type": "stream",
     "text": [
      "[Parallel(n_jobs=1)]: Using backend SequentialBackend with 1 concurrent workers.\n",
      "[Parallel(n_jobs=1)]: Done 2000 out of 2000 | elapsed:   10.0s finished\n"
     ]
    },
    {
     "data": {
      "text/plain": [
       "{'min_samples_split': 5,\n",
       " 'min_samples_leaf': 10,\n",
       " 'max_features': 'log2',\n",
       " 'criterion': 'mae'}"
      ]
     },
     "execution_count": 96,
     "metadata": {},
     "output_type": "execute_result"
    }
   ],
   "source": [
    "# Different Support Vector Regressor hyperparameter\n",
    "rf_grid = {\"criterion\":[\"mse\", \"friedman_mse\", \"mae\"],\n",
    "          \"min_samples_leaf\":[1,2,3,4,5,6,7,8,9,10],\n",
    "           \"min_samples_split\":[2,3,4,5,6,7,8],\n",
    "           \"max_features\":[\"auto\", \"sqrt\", \"log2\"]\n",
    "\n",
    "          }  # limiting the maximum to save time\n",
    "\n",
    "# Instantiate RandomizedSearchCV model\n",
    "tree_model = RandomizedSearchCV(model,\n",
    "                              param_distributions=rf_grid,\n",
    "                              n_iter = 100, \n",
    "                              cv=20,\n",
    "                              verbose=True\n",
    "                             )\n",
    "# Fit the RandomizedSearchCV model\n",
    "tree_model.fit(X_train_scaled, y_train_scaled)\n",
    "\n",
    "#print(tree_model.best_params_)\n",
    "tree_model.best_params_"
   ]
  },
  {
   "cell_type": "markdown",
   "metadata": {},
   "source": [
    "### Trying the tuned model"
   ]
  },
  {
   "cell_type": "code",
   "execution_count": 154,
   "metadata": {},
   "outputs": [
    {
     "data": {
      "text/plain": [
       "(-0.1035210929149557, 14.9356198029825, 1472.188290708283)"
      ]
     },
     "execution_count": 154,
     "metadata": {},
     "output_type": "execute_result"
    }
   ],
   "source": [
    "model_aff_no_tuned = DecisionTreeRegressor(min_samples_split=5, min_samples_leaf=10, max_features='log2', criterion='mae')\n",
    "np.random.seed(42)\n",
    "\n",
    "# Fitting the model\n",
    "model_aff_no_tuned.fit(X_train_scaled, y_train_scaled)\n",
    "\n",
    "# Making predictions\n",
    "pred = model_aff_no_tuned.predict(X_test_scaled)\n",
    "\n",
    "pred_u = scaler.inverse_transform(np.array(pred).reshape(-1, 1))\n",
    "y_test_u = scaler.inverse_transform(np.array(y_test_scaled).reshape(-1, 1))\n",
    "diff = np.array(pred_u) - np.array(y_test_u)\n",
    "summary_diff = pd.DataFrame(np.concatenate((pred_u, y_test_u, diff), axis=1), columns=[\"Predictions\", \"Real\", \"Difference\"])\n",
    "\n",
    "\n",
    "r2_score_aff_no_tuned = r2_score(y_test, pred_u)\n",
    "mean_absolute_error_aff_no_tuned = mean_absolute_error(y_test, pred_u)\n",
    "mean_squared_error_aff_no_tuned = mean_squared_error(y_test, pred_u)\n",
    "\n",
    "r2_score_aff_no_tuned, mean_absolute_error_aff_no_tuned, mean_squared_error_aff_no_tuned "
   ]
  },
  {
   "cell_type": "code",
   "execution_count": 112,
   "metadata": {},
   "outputs": [
    {
     "data": {
      "text/plain": [
       "(16.912686567164176, 5.18, 185.76, 0.09)"
      ]
     },
     "execution_count": 112,
     "metadata": {},
     "output_type": "execute_result"
    }
   ],
   "source": [
    "np.mean(y_test), np.median(y_test), np.max(y_test), np.min(y_test)"
   ]
  },
  {
   "cell_type": "code",
   "execution_count": 114,
   "metadata": {},
   "outputs": [
    {
     "data": {
      "text/plain": [
       "<matplotlib.axes._subplots.AxesSubplot at 0x1e2f7034a60>"
      ]
     },
     "execution_count": 114,
     "metadata": {},
     "output_type": "execute_result"
    },
    {
     "data": {
      "image/png": "[encoded data removed]",
      "text/plain": [
       "<Figure size 720x2520 with 1 Axes>"
      ]
     },
     "metadata": {
      "needs_background": "light"
     },
     "output_type": "display_data"
    }
   ],
   "source": [
    "plt.figure(figsize=(10,35))\n",
    "sns.boxplot(y=y_test)"
   ]
  },
  {
   "cell_type": "code",
   "execution_count": 117,
   "metadata": {},
   "outputs": [
    {
     "data": {
      "image/png": "[encoded data removed]",
      "text/plain": [
       "<Figure size 432x288 with 1 Axes>"
      ]
     },
     "metadata": {
      "needs_background": "light"
     },
     "output_type": "display_data"
    }
   ],
   "source": [
    "plt.hist(y_test);"
   ]
  },
  {
   "cell_type": "code",
   "execution_count": 118,
   "metadata": {},
   "outputs": [
    {
     "data": {
      "text/plain": [
       "(array([55.,  5.,  3.,  0.,  1.,  0.,  0.,  0.,  1.,  2.]),\n",
       " array([0. , 0.1, 0.2, 0.3, 0.4, 0.5, 0.6, 0.7, 0.8, 0.9, 1. ]),\n",
       " <a list of 10 Patch objects>)"
      ]
     },
     "execution_count": 118,
     "metadata": {},
     "output_type": "execute_result"
    },
    {
     "data": {
      "image/png": "[encoded data removed]",
      "text/plain": [
       "<Figure size 432x288 with 1 Axes>"
      ]
     },
     "metadata": {
      "needs_background": "light"
     },
     "output_type": "display_data"
    }
   ],
   "source": [
    "plt.hist(y_test_scaled)"
   ]
  },
  {
   "cell_type": "markdown",
   "metadata": {},
   "source": [
    "### Analysis of Results\n",
    "\n",
    "By tuning the model we get an improvement from 19 to 14. We have to take into account than different from when we had 0 values in our target dataset, the median of this dataset increases from 0.85 from the original dataset to 5.18 when we remove target values equal 0."
   ]
  },
  {
   "cell_type": "markdown",
   "metadata": {},
   "source": [
    "## Feature Importance"
   ]
  },
  {
   "cell_type": "code",
   "execution_count": 119,
   "metadata": {},
   "outputs": [],
   "source": [
    "def plot_features(columns, importances, n=20):\n",
    "    df = (pd.DataFrame({\"features\": columns,\n",
    "                      \"feature_importances\": importances})\n",
    "         .sort_values(\"feature_importances\", ascending = False)\n",
    "         .reset_index(drop=True))\n",
    "    \n",
    "    # Plot the dataframe\n",
    "    fig, ax = plt.subplots()\n",
    "    ax.barh(df[\"features\"][:n], df[\"feature_importances\"][:20])\n",
    "    ax.set_ylabel(\"Features\")\n",
    "    ax.set_xlabel(\"Feature Importance\")\n",
    "    ax.invert_yaxis()"
   ]
  },
  {
   "cell_type": "code",
   "execution_count": 120,
   "metadata": {},
   "outputs": [
    {
     "data": {
      "image/png": "[encoded data removed]",
      "text/plain": [
       "<Figure size 432x288 with 1 Axes>"
      ]
     },
     "metadata": {
      "needs_background": "light"
     },
     "output_type": "display_data"
    }
   ],
   "source": [
    "plot_features(X_train.columns, model.feature_importances_)"
   ]
  },
  {
   "cell_type": "markdown",
   "metadata": {},
   "source": [
    "## Visualization of the evaluation metrics"
   ]
  },
  {
   "cell_type": "code",
   "execution_count": 155,
   "metadata": {},
   "outputs": [
    {
     "data": {
      "image/png": "[encoded data removed]",
      "text/plain": [
       "<Figure size 432x288 with 1 Axes>"
      ]
     },
     "metadata": {
      "needs_background": "light"
     },
     "output_type": "display_data"
    },
    {
     "data": {
      "image/png": "[encoded data removed]",
      "text/plain": [
       "<Figure size 432x288 with 1 Axes>"
      ]
     },
     "metadata": {
      "needs_background": "light"
     },
     "output_type": "display_data"
    },
    {
     "data": {
      "image/png": "[encoded data removed]",
      "text/plain": [
       "<Figure size 432x288 with 1 Axes>"
      ]
     },
     "metadata": {
      "needs_background": "light"
     },
     "output_type": "display_data"
    }
   ],
   "source": [
    "mae_sum = pd.DataFrame(data = [mean_absolute_error_orig, mean_absolute_error_orig_no, mean_absolute_error_orig_no_tuned,\n",
    "                    mean_absolute_error_aff, mean_absolute_error_aff_no, mean_absolute_error_aff_no_tuned], \n",
    "             index=[\"MAE original data\",\"MAE from data not outliers\", \"MAE from tuned model with no outliers\", \"MAE from hazard dataset\",\n",
    "                   \"MAE from hazard dataset no outliers\", \"MAE from tuned hazard dataset no outliers\"])\n",
    "r2_sum = pd.DataFrame(data = [r2_score_orig, r2_score_orig_no, r2_score_aff_no_tuned, r2_score_aff, r2_score_aff_no,\n",
    "                              r2_score_aff_no_tuned], \n",
    "             index=[\"R2-squared original data\",\"R2-squared from data not outliers\", \"R2-squared from tuned model with no outliers\", \"MAE from hazard dataset\",\n",
    "                   \"R2-squared from hazard dataset no outliers\", \"R2-squared from tuned hazard dataset no outliers\"])\n",
    "mse_sum = pd.DataFrame(data = [mean_squared_error_orig, mean_squared_error_orig_no, mean_squared_error_orig_no_tuned,\n",
    "                    mean_squared_error_aff, mean_squared_error_aff_no, mean_squared_error_aff_no_tuned], \n",
    "             index=[\"MSE original data\",\"MSE from data not outliers\", \"MSE from tuned model with no outliers\", \"MSE from hazard dataset\",\n",
    "                   \"MSE from hazard dataset no outliers\", \"MSE from tuned hazard dataset no outliers\"])\n",
    "\n",
    "\n",
    "ax1 = mae_sum.plot(kind='bar', legend=None, title='Mean Absolute Error (MAE)')\n",
    "\n",
    "\n",
    "ax2 = r2_sum.plot(kind='bar', legend=None, title='R2 squared')\n",
    "\n",
    "\n",
    "ax3 = mse_sum.plot(kind='bar', legend=None, title='Mean Square Error (MSE)')\n",
    "\n",
    "\n",
    "plt.show()"
   ]
  },
  {
   "cell_type": "markdown",
   "metadata": {},
   "source": [
    "# Summary\n",
    "\n",
    "Decision Tree regression model gives us better results than Support Vector Machines whether for our original dataset and the hazard dataset which only covers the data for burned area. I had to say that this data was skewed. In the research paper, to solve this issue they apply ln(x+1) to scale the target data."
   ]
  },
  {
   "cell_type": "code",
   "execution_count": null,
   "metadata": {},
   "outputs": [],
   "source": []
  }
 ],
 "metadata": {
  "kernelspec": {
   "display_name": "Python 3",
   "language": "python",
   "name": "python3"
  },
  "language_info": {
   "codemirror_mode": {
    "name": "ipython",
    "version": 3
   },
   "file_extension": ".py",
   "mimetype": "text/x-python",
   "name": "python",
   "nbconvert_exporter": "python",
   "pygments_lexer": "ipython3",
   "version": "3.8.3"
  }
 },
 "nbformat": 4,
 "nbformat_minor": 4
}
